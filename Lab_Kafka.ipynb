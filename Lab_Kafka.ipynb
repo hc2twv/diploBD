{
 "cells": [
  {
   "cell_type": "markdown",
   "metadata": {},
   "source": [
    "<img src=\"http://www.espol.edu.ec/sites/default/files/nuevaespol/logo_negro.png\" width=\"301\" height=\"58\" />"
   ]
  },
  {
   "cell_type": "markdown",
   "metadata": {},
   "source": [
    "#     FACULTAD DE INGENIER&Iacute;A EN ELECTRICIDAD Y COMPUTACI&Oacute;N\n",
    "##   DIPLOMADO EN CIENCIA DE DATOS PARA LOS NEGOCIOS\n",
    "###  Laboratorio: Kafka"
   ]
  },
  {
   "cell_type": "markdown",
   "metadata": {},
   "source": [
    "<h3><strong>Introducci&oacute;n</strong></h3>\n",
    "\n",
    "En Kafka, la comunicación entre los clientes y los servidores se realiza con un protocolo TCP simple, de alto rendimiento y agnóstico de lenguaje. Este protocolo está versionado y mantiene la compatibilidad con versiones anteriores. Ofrecemos un cliente Java para Kafka, pero los clientes están disponibles en muchos idiomas."
   ]
  },
  {
   "cell_type": "markdown",
   "metadata": {},
   "source": [
    "<h3><strong>Procedimiento</strong></h3>"
   ]
  },
  {
   "cell_type": "markdown",
   "metadata": {},
   "source": [
    "<h3>Paso 1: Descarga Kafka</h3>"
   ]
  },
  {
   "cell_type": "markdown",
   "metadata": {},
   "source": [
    "Descargue la versión 2.5.0 y descomprímalo, acorde a su sistema operativo: <a href=\"https://www.apache.org/dyn/closer.cgi?path=/kafka/2.5.0/kafka_2.12-2.5.0.tgz\">aqui</a>"
   ]
  },
  {
   "cell_type": "markdown",
   "metadata": {},
   "source": [
    "<h3>Paso 2: Inicie el Servidor</h3>"
   ]
  },
  {
   "cell_type": "markdown",
   "metadata": {},
   "source": [
    "Kafka usa ZooKeeper, por lo que primero debe iniciar un servidor ZooKeeper si aún no tiene uno. Puede usar el script de conveniencia empaquetado con kafka para obtener una instancia de ZooKeeper de un solo nodo rápida y sucia."
   ]
  },
  {
   "cell_type": "markdown",
   "metadata": {},
   "source": [
    "> bin/zookeeper-server-start.sh config/zookeeper.properties"
   ]
  },
  {
   "cell_type": "markdown",
   "metadata": {},
   "source": [
    "Ahora inicie el servidor Kafka:"
   ]
  },
  {
   "cell_type": "markdown",
   "metadata": {},
   "source": [
    "> bin/kafka-server-start.sh config/server.properties"
   ]
  },
  {
   "cell_type": "markdown",
   "metadata": {},
   "source": [
    "<h3>Paso 3: Creación de topicos</h3>"
   ]
  },
  {
   "cell_type": "markdown",
   "metadata": {},
   "source": [
    "Creemos un topico llamado \"prueba\" con una sola partición y solo una réplica:"
   ]
  },
  {
   "cell_type": "markdown",
   "metadata": {},
   "source": [
    "> bin/kafka-topics.sh --create --bootstrap-server localhost:9092 --replication-factor 1 --partitions 1 --topic test"
   ]
  },
  {
   "cell_type": "markdown",
   "metadata": {},
   "source": [
    "> bin/kafka-topics.sh --list --bootstrap-server localhost:9092"
   ]
  },
  {
   "cell_type": "markdown",
   "metadata": {},
   "source": [
    "<h3>Paso 4: Envíe mensajes</h3>"
   ]
  },
  {
   "cell_type": "markdown",
   "metadata": {},
   "source": [
    "Kafka viene con un cliente de línea de comandos que tomará información de un archivo o de una entrada estándar y la enviará como mensajes al clúster de Kafka. Por defecto, cada línea se enviará como un mensaje separado.\n",
    "\n",
    "Ejecute el productor y luego escriba algunos mensajes en la consola para enviarlos al servidor."
   ]
  },
  {
   "cell_type": "markdown",
   "metadata": {},
   "source": [
    "> bin/kafka-console-producer.sh --bootstrap-server localhost:9092 --topic test"
   ]
  },
  {
   "cell_type": "markdown",
   "metadata": {},
   "source": [
    "<h3>Paso 5: Inicie un Consumidor</h3>"
   ]
  },
  {
   "cell_type": "markdown",
   "metadata": {},
   "source": [
    "Kafka también tiene un consumidor de línea de comandos que enviará los mensajes a la salida estándar."
   ]
  },
  {
   "cell_type": "markdown",
   "metadata": {},
   "source": [
    "> bin/kafka-console-consumer.sh --bootstrap-server localhost:9092 --topic test --from-beginning"
   ]
  },
  {
   "cell_type": "markdown",
   "metadata": {},
   "source": [
    "Si tiene cada uno de los comandos anteriores ejecutándose en un terminal diferente, ahora debería poder escribir mensajes en el terminal productor y verlos aparecer en el terminal consumidor.\n",
    "\n",
    "Todas las herramientas de línea de comando tienen opciones adicionales; ejecutar el comando sin argumentos mostrará información de uso que los documenta con más detalle."
   ]
  },
  {
   "cell_type": "markdown",
   "metadata": {},
   "source": [
    "<h3>Paso 6: Configuración con multi-brokers</h3>"
   ]
  },
  {
   "cell_type": "markdown",
   "metadata": {},
   "source": [
    "Hasta ahora hemos estado corriendo contra un solo broker, pero eso no es divertido. Para Kafka, un único agente es solo un grupo de tamaño uno, por lo que nada cambia mucho más que iniciar algunas instancias más de agente. Pero solo para sentirlo, expandamos nuestro clúster a tres nodos (todavía todos en nuestra máquina local)."
   ]
  },
  {
   "cell_type": "markdown",
   "metadata": {},
   "source": [
    "> cp config/server.properties config/server-1.properties\n",
    "\n",
    "> cp config/server.properties config/server-2.properties"
   ]
  },
  {
   "cell_type": "markdown",
   "metadata": {},
   "source": [
    "Ahora edite estos nuevos archivos y configure las siguientes propiedades:"
   ]
  },
  {
   "cell_type": "markdown",
   "metadata": {},
   "source": [
    "config/server-1.properties:\n",
    "\n",
    "    broker.id=1\n",
    "    listeners=PLAINTEXT://:9093\n",
    "    log.dirs=/tmp/kafka-logs-1\n",
    " \n",
    "config/server-2.properties:\n",
    "\n",
    "    broker.id=2\n",
    "    listeners=PLAINTEXT://:9094\n",
    "    log.dirs=/tmp/kafka-logs-2"
   ]
  },
  {
   "cell_type": "markdown",
   "metadata": {},
   "source": [
    "La propiedad broker.id es el nombre único y permanente de cada nodo en el clúster. Tenemos que anular el puerto y el directorio de registro solo porque los estamos ejecutando todos en la misma máquina y queremos evitar que todos los intermediarios intenten registrarse en el mismo puerto o sobrescribir los datos de los demás."
   ]
  },
  {
   "cell_type": "markdown",
   "metadata": {},
   "source": [
    "Ya tenemos Zookeeper y nuestro nodo único iniciado, por lo que solo necesitamos iniciar los dos nuevos nodos:"
   ]
  },
  {
   "cell_type": "markdown",
   "metadata": {},
   "source": [
    "> bin/kafka-server-start.sh config/server-1.properties &\n",
    "...\n",
    "\n",
    "> bin/kafka-server-start.sh config/server-2.properties &\n",
    "..."
   ]
  },
  {
   "cell_type": "markdown",
   "metadata": {},
   "source": [
    "Ahora cree un nuevo tema con un factor de replicación de tres:"
   ]
  },
  {
   "cell_type": "markdown",
   "metadata": {},
   "source": [
    "> bin/kafka-topics.sh --create --bootstrap-server localhost:9092 --replication-factor 3 --partitions 1 --topic my-replicated-topic"
   ]
  },
  {
   "cell_type": "markdown",
   "metadata": {},
   "source": [
    "Bien, pero ahora que tenemos un clúster, ¿cómo podemos saber qué agente está haciendo qué? Para ver eso, ejecute el comando \"describe\":"
   ]
  },
  {
   "cell_type": "markdown",
   "metadata": {},
   "source": [
    "> bin/kafka-topics.sh --describe --bootstrap-server localhost:9092 --topic my-replicated-topic\n",
    "\n",
    ">Topic:my-replicated-topic   PartitionCount:1    ReplicationFactor:3 Configs:\n",
    "    Topic: my-replicated-topic  Partition: 0    Leader: 1   Replicas: 1,2,0 Isr: 1,2,0"
   ]
  },
  {
   "cell_type": "markdown",
   "metadata": {},
   "source": [
    "Aquí hay una explicación de la salida. La primera línea ofrece un resumen de todas las particiones, cada línea adicional brinda información sobre una partición. Como solo tenemos una partición para este tema, solo hay una línea.\n",
    "\n",
    "<strong>\"líder\"</strong> es el nodo responsable de todas las lecturas y escrituras para la partición dada. Cada nodo será el líder de una parte de las particiones seleccionada al azar.\n",
    "\n",
    "<strong>\"réplicas\"</strong> es la lista de nodos que replican el registro de esta partición independientemente de si son el líder o incluso si están actualmente vivos.\n",
    "\n",
    "<strong>\"isr\"</strong> es el conjunto de réplicas \"sincronizadas\". Este es el subconjunto de la lista de réplicas que actualmente está vivo y atrapado por el líder."
   ]
  },
  {
   "cell_type": "markdown",
   "metadata": {},
   "source": [
    "# Bibliografía\n",
    "<ul>  \n",
    "<li><a href=\"https://kafka.apache.org\">https://kafka.apache.org</a></li>\n",
    "<li><a href=\"https://kafka.apache.org/quickstart\">https://kafka.apache.org/quickstart</a></li>\n",
    "</ul>"
   ]
  }
 ],
 "metadata": {
  "kernelspec": {
   "display_name": "Python 3",
   "language": "python",
   "name": "python3"
  },
  "language_info": {
   "codemirror_mode": {
    "name": "ipython",
    "version": 3
   },
   "file_extension": ".py",
   "mimetype": "text/x-python",
   "name": "python",
   "nbconvert_exporter": "python",
   "pygments_lexer": "ipython3",
   "version": "3.7.3"
  }
 },
 "nbformat": 4,
 "nbformat_minor": 2
}
