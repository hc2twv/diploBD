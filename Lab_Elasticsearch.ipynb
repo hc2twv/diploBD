{
 "cells": [
  {
   "cell_type": "markdown",
   "metadata": {},
   "source": [
    "<img src=\"http://www.espol.edu.ec/sites/default/files/nuevaespol/logo_negro.png\" width=\"301\" height=\"58\" />"
   ]
  },
  {
   "cell_type": "markdown",
   "metadata": {},
   "source": [
    "#     FACULTAD DE INGENIER&Iacute;A EN ELECTRICIDAD Y COMPUTACI&Oacute;N\n",
    "##   DIPLOMADO EN CIENCIA DE DATOS PARA LOS NEGOCIOS\n",
    "###  Laboratorio: ElasticSearch"
   ]
  },
  {
   "cell_type": "markdown",
   "metadata": {},
   "source": [
    "<h3><strong>Introducci&oacute;n</strong></h3>\n",
    "<p><strong>Elasticsearch</strong></p>\n",
    "<p>Elasticsearch es un producto que permite indexar y analizar en tiempo real grandes cantidades de datos de manera distribuida. Va un paso m&aacute;s all&aacute; de la b&uacute;squeda por texto gracias a un DSL y un Api para b&uacute;squedas m&aacute;s complicadas.</p>\n",
    "<p>Elasticsearch permite almacenar documentos ( estructurados o no ) e indexar todos los campos de estos documentos en casi tiempo real.</p>\n",
    "<p>Elasticsearch a diferencia de otros sistemas parecidos, no necesita declarar un esquema de la informaci&oacute;n que a&ntilde;adimos, pero para sacar mayor partido a la informaci&oacute;n tendremos que a&ntilde;adir los llamados <code>mappings</code>que funcionan m&aacute;s o menos como un <code>schema</code></p>"
   ]
  },
  {
   "cell_type": "markdown",
   "metadata": {},
   "source": [
    "<p><strong>Conceptos Básicos</strong></p>"
   ]
  },
  {
   "cell_type": "markdown",
   "metadata": {},
   "source": [
    "<h4 id=\"0021\">Cluster</h4>\n",
    "<p>Un cluster es un conjunto de uno o m&aacute;s nodos que mantienen toda la informaci&oacute;n de manera distribuida e indexada. Cada cluster est&aacute; identificado por un nombre, por defecto se llaman &laquo;elasticsearch&raquo;.</p>\n",
    "<h4 id=\"0022\">Node</h4>\n",
    "<p>Un nodo es un server que forma parte de un cluster, almacena tu informaci&oacute;n y ayuda con las tareas de indexaci&oacute;n y b&uacute;squeda del cluster. Los nodos est&aacute;n identificados por un nombre tambi&eacute;n, pero en este caso cada nodo est&aacute; nombrado tras un personaje de Marvel.</p>\n",
    "<p>Por defecto est&aacute;n configurados para ser parte de un cluster con el nombre de &laquo;elasticsearch&raquo;.</p>\n",
    "<p>Puede haber tantos nodos como quieras por cada Cluster, en caso de que no haya ning&uacute;n Cluster configurado en el momento de creaci&oacute;n este lo crear&aacute; y se unir&aacute; a &eacute;l.</p>\n",
    "<h4 id=\"0023\">Index</h4>\n",
    "<p>Un Index es una colecci&oacute;n de documentos que tienen caracter&iacute;sticas similares. Los &iacute;ndices est&aacute;n identificados por un nombre, el cual usaremos a la hora de indexar, buscar, actualizar y borrar.</p>\n",
    "<h4 id=\"0024\">Sharding y Replicas</h4>\n",
    "<p>Cuando la informaci&oacute;n que estamos indexando sobrepasa el l&iacute;mite de una sola m&aacute;quina, <strong>elasticsearch</strong> nos ofrece distintas maneras de saltarnos esa limitaci&oacute;n.</p>\n",
    "<p>El <strong>sharding</strong> nos permite dividir estos &iacute;ndices en distintas &laquo;piezas&raquo; ofreci&eacute;ndonos la posibilidad de <strong>escalar horizontalmente</strong> (a&ntilde;adiendo m&aacute;s m&aacute;quinas), adem&aacute;s de paralelizar y distribuir las distintas operaciones que hagamos sobre esos &iacute;ndices.</p>\n",
    "<p>La <strong>replicaci&oacute;n</strong> nos ofrece un mecanismo para que en caso de fallo el usuario no se vea afectado.</p>"
   ]
  },
  {
   "cell_type": "markdown",
   "metadata": {},
   "source": [
    "<p><strong>Descarga e Instalación</strong></p>"
   ]
  },
  {
   "cell_type": "markdown",
   "metadata": {},
   "source": [
    "<p>Para instalar necesitamos tener como m&iacute;nimo la JDK 7 instalada en nuestro sistema.</p>\n",
    "<p><a href=\"http://www.elasticsearch.org/overview/elkdownloads/\">Link de descarga</a></p>\n",
    "<p>Esperamos a que termine de iniciarse y accedemos a la URL ( http://localhost:9200/ ) para ver una respuesta en formato JSON.</p>"
   ]
  },
  {
   "cell_type": "markdown",
   "metadata": {},
   "source": [
    "<h3>Procedimiento</h3>"
   ]
  },
  {
   "cell_type": "markdown",
   "metadata": {},
   "source": [
    "<h3>Paso 1: Comprobación de Elasticsearch</h3>"
   ]
  },
  {
   "cell_type": "code",
   "execution_count": 1,
   "metadata": {},
   "outputs": [
    {
     "name": "stdout",
     "output_type": "stream",
     "text": [
      "b'{\\n  \"name\" : \"783f82c48c70\",\\n  \"cluster_name\" : \"docker-cluster\",\\n  \"cluster_uuid\" : \"ubCYmKL-TBW79LbzQf1XKA\",\\n  \"version\" : {\\n    \"number\" : \"7.8.0\",\\n    \"build_flavor\" : \"default\",\\n    \"build_type\" : \"docker\",\\n    \"build_hash\" : \"757314695644ea9a1dc2fecd26d1a43856725e65\",\\n    \"build_date\" : \"2020-06-14T19:35:50.234439Z\",\\n    \"build_snapshot\" : false,\\n    \"lucene_version\" : \"8.5.1\",\\n    \"minimum_wire_compatibility_version\" : \"6.8.0\",\\n    \"minimum_index_compatibility_version\" : \"6.0.0-beta1\"\\n  },\\n  \"tagline\" : \"You Know, for Search\"\\n}\\n'\n"
     ]
    }
   ],
   "source": [
    "# make sure ES is up and running\n",
    "import requests\n",
    "res = requests.get('http://localhost:9200')\n",
    "print(res.content)"
   ]
  },
  {
   "cell_type": "code",
   "execution_count": 3,
   "metadata": {},
   "outputs": [
    {
     "data": {
      "text/plain": [
       "<Elasticsearch([{'host': 'localhost', 'port': 9200}])>"
      ]
     },
     "execution_count": 3,
     "metadata": {},
     "output_type": "execute_result"
    }
   ],
   "source": [
    "#connect to our cluster\n",
    "from elasticsearch import Elasticsearch\n",
    "es = Elasticsearch([{'host': 'localhost', 'port': 9200}])\n",
    "es"
   ]
  },
  {
   "cell_type": "code",
   "execution_count": 19,
   "metadata": {},
   "outputs": [
    {
     "name": "stderr",
     "output_type": "stream",
     "text": [
      "/Users/washington/opt/anaconda3/lib/python3.7/site-packages/elasticsearch/connection/base.py:177: ElasticsearchDeprecationWarning: [types removal] Specifying types in document index requests is deprecated, use the typeless endpoints instead (/{index}/_doc/{id}, /{index}/_doc, or /{index}/_create/{id}).\n",
      "  warnings.warn(message, category=ElasticsearchDeprecationWarning)\n"
     ]
    },
    {
     "name": "stdout",
     "output_type": "stream",
     "text": [
      "85\n"
     ]
    }
   ],
   "source": [
    "#let's iterate over swapi people documents and index them\n",
    "import json\n",
    "\n",
    "r = requests.get('http://localhost:9200') \n",
    "i = 19\n",
    "while r.status_code == 200:\n",
    "    r = requests.get('https://swapi.dev/api/people/'+ str(i))\n",
    "    es.index(index='sw', doc_type='people', id=i, body=json.loads(r.content))\n",
    "    i=i+1\n",
    "\n",
    "print(i)"
   ]
  },
  {
   "cell_type": "markdown",
   "metadata": {},
   "source": [
    "<p>Tenga en cuenta que automáticamente creamos un índice \"sw\" y un \"doc_type\" con el comando de indexación. Recibimos 18 respuestas de swapi y las indexamos con ES.</p>"
   ]
  },
  {
   "cell_type": "markdown",
   "metadata": {},
   "source": [
    "<h3>Paso 2: Obtener un dato</h3>\n",
    "<p>para ver si todo funcionó con estos pocos resultados, intentamos obtener el documento con id = 5.</p>"
   ]
  },
  {
   "cell_type": "code",
   "execution_count": 5,
   "metadata": {},
   "outputs": [
    {
     "data": {
      "text/plain": [
       "{'_index': 'sw',\n",
       " '_type': 'people',\n",
       " '_id': '5',\n",
       " '_version': 1,\n",
       " '_seq_no': 4,\n",
       " '_primary_term': 1,\n",
       " 'found': True,\n",
       " '_source': {'name': 'Leia Organa',\n",
       "  'height': '150',\n",
       "  'mass': '49',\n",
       "  'hair_color': 'brown',\n",
       "  'skin_color': 'light',\n",
       "  'eye_color': 'brown',\n",
       "  'birth_year': '19BBY',\n",
       "  'gender': 'female',\n",
       "  'homeworld': 'http://swapi.dev/api/planets/2/',\n",
       "  'films': ['http://swapi.dev/api/films/1/',\n",
       "   'http://swapi.dev/api/films/2/',\n",
       "   'http://swapi.dev/api/films/3/',\n",
       "   'http://swapi.dev/api/films/6/'],\n",
       "  'species': [],\n",
       "  'vehicles': ['http://swapi.dev/api/vehicles/30/'],\n",
       "  'starships': [],\n",
       "  'created': '2014-12-10T15:20:09.791000Z',\n",
       "  'edited': '2014-12-20T21:17:50.315000Z',\n",
       "  'url': 'http://swapi.dev/api/people/5/'}}"
      ]
     },
     "execution_count": 5,
     "metadata": {},
     "output_type": "execute_result"
    }
   ],
   "source": [
    "es.get(index='sw', doc_type='people', id=5)"
   ]
  },
  {
   "cell_type": "markdown",
   "metadata": {},
   "source": [
    "<strong>¿Donde está Darth Vader?</strong>"
   ]
  },
  {
   "cell_type": "code",
   "execution_count": 49,
   "metadata": {
    "scrolled": true
   },
   "outputs": [
    {
     "data": {
      "text/plain": [
       "{'took': 11,\n",
       " 'timed_out': False,\n",
       " '_shards': {'total': 1, 'successful': 1, 'skipped': 0, 'failed': 0},\n",
       " 'hits': {'total': {'value': 2, 'relation': 'eq'},\n",
       "  'max_score': 6.384812,\n",
       "  'hits': [{'_index': 'sw',\n",
       "    '_type': 'people',\n",
       "    '_id': '4',\n",
       "    '_score': 6.384812,\n",
       "    '_source': {'films': ['http://swapi.dev/api/films/1/',\n",
       "      'http://swapi.dev/api/films/2/',\n",
       "      'http://swapi.dev/api/films/3/',\n",
       "      'http://swapi.dev/api/films/6/'],\n",
       "     'homeworld': 'http://swapi.dev/api/planets/1/',\n",
       "     'gender': 'male',\n",
       "     'skin_color': 'white',\n",
       "     'edited': '2014-12-20T21:17:50.313000Z',\n",
       "     'created': '2014-12-10T15:18:20.704000Z',\n",
       "     'mass': '136',\n",
       "     'vehicles': [],\n",
       "     'url': 'http://swapi.dev/api/people/4/',\n",
       "     'hair_color': 'none',\n",
       "     'birth_year': '41.9BBY',\n",
       "     'eye_color': 'yellow',\n",
       "     'species': [],\n",
       "     'starships': ['http://swapi.dev/api/starships/13/'],\n",
       "     'name': 'Darth Vader',\n",
       "     'height': 208}},\n",
       "   {'_index': 'sw',\n",
       "    '_type': 'people',\n",
       "    '_id': '44',\n",
       "    '_score': 2.902155,\n",
       "    '_source': {'films': ['http://swapi.dev/api/films/4/'],\n",
       "     'homeworld': 'http://swapi.dev/api/planets/36/',\n",
       "     'gender': 'male',\n",
       "     'skin_color': 'red',\n",
       "     'edited': '2014-12-20T21:17:50.403000Z',\n",
       "     'created': '2014-12-19T18:00:41.929000Z',\n",
       "     'mass': '80',\n",
       "     'vehicles': ['http://swapi.dev/api/vehicles/42/'],\n",
       "     'url': 'http://swapi.dev/api/people/44/',\n",
       "     'hair_color': 'none',\n",
       "     'birth_year': '54BBY',\n",
       "     'eye_color': 'yellow',\n",
       "     'species': ['http://swapi.dev/api/species/22/'],\n",
       "     'starships': ['http://swapi.dev/api/starships/41/'],\n",
       "     'name': 'Darth Maul',\n",
       "     'height': 208}}]}}"
      ]
     },
     "execution_count": 49,
     "metadata": {},
     "output_type": "execute_result"
    }
   ],
   "source": [
    "es.search(index=\"sw\", body={\"query\": {\"match\": {'name':'Darth Vader'}}})"
   ]
  },
  {
   "cell_type": "code",
   "execution_count": 53,
   "metadata": {
    "scrolled": true
   },
   "outputs": [
    {
     "data": {
      "text/plain": [
       "{'took': 23,\n",
       " 'timed_out': False,\n",
       " '_shards': {'total': 1, 'successful': 1, 'skipped': 0, 'failed': 0},\n",
       " 'hits': {'total': {'value': 3, 'relation': 'eq'},\n",
       "  'max_score': 6.384812,\n",
       "  'hits': [{'_index': 'sw',\n",
       "    '_type': 'people',\n",
       "    '_id': '4',\n",
       "    '_score': 6.384812,\n",
       "    '_source': {'films': ['http://swapi.dev/api/films/1/',\n",
       "      'http://swapi.dev/api/films/2/',\n",
       "      'http://swapi.dev/api/films/3/',\n",
       "      'http://swapi.dev/api/films/6/'],\n",
       "     'homeworld': 'http://swapi.dev/api/planets/1/',\n",
       "     'gender': 'male',\n",
       "     'skin_color': 'white',\n",
       "     'edited': '2014-12-20T21:17:50.313000Z',\n",
       "     'created': '2014-12-10T15:18:20.704000Z',\n",
       "     'mass': '136',\n",
       "     'vehicles': [],\n",
       "     'url': 'http://swapi.dev/api/people/4/',\n",
       "     'hair_color': 'none',\n",
       "     'birth_year': '41.9BBY',\n",
       "     'eye_color': 'yellow',\n",
       "     'species': [],\n",
       "     'starships': ['http://swapi.dev/api/starships/13/'],\n",
       "     'name': 'Darth Vader',\n",
       "     'height': 208}},\n",
       "   {'_index': 'sw',\n",
       "    '_type': 'people',\n",
       "    '_id': '80',\n",
       "    '_score': 3.189888,\n",
       "    '_source': {'name': 'Tarfful',\n",
       "     'height': '234',\n",
       "     'mass': '136',\n",
       "     'hair_color': 'brown',\n",
       "     'skin_color': 'brown',\n",
       "     'eye_color': 'blue',\n",
       "     'birth_year': 'unknown',\n",
       "     'gender': 'male',\n",
       "     'homeworld': 'http://swapi.dev/api/planets/14/',\n",
       "     'films': ['http://swapi.dev/api/films/6/'],\n",
       "     'species': ['http://swapi.dev/api/species/3/'],\n",
       "     'vehicles': [],\n",
       "     'starships': [],\n",
       "     'created': '2014-12-20T19:46:34.209000Z',\n",
       "     'edited': '2014-12-20T21:17:50.491000Z',\n",
       "     'url': 'http://swapi.dev/api/people/80/'}},\n",
       "   {'_index': 'sw',\n",
       "    '_type': 'people',\n",
       "    '_id': '44',\n",
       "    '_score': 2.902155,\n",
       "    '_source': {'films': ['http://swapi.dev/api/films/4/'],\n",
       "     'homeworld': 'http://swapi.dev/api/planets/36/',\n",
       "     'gender': 'male',\n",
       "     'skin_color': 'red',\n",
       "     'edited': '2014-12-20T21:17:50.403000Z',\n",
       "     'created': '2014-12-19T18:00:41.929000Z',\n",
       "     'mass': '80',\n",
       "     'vehicles': ['http://swapi.dev/api/vehicles/42/'],\n",
       "     'url': 'http://swapi.dev/api/people/44/',\n",
       "     'hair_color': 'none',\n",
       "     'birth_year': '54BBY',\n",
       "     'eye_color': 'yellow',\n",
       "     'species': ['http://swapi.dev/api/species/22/'],\n",
       "     'starships': ['http://swapi.dev/api/starships/41/'],\n",
       "     'name': 'Darth Maul',\n",
       "     'height': 208}}]}}"
      ]
     },
     "execution_count": 53,
     "metadata": {},
     "output_type": "execute_result"
    }
   ],
   "source": [
    "es.search(index=\"sw\", body={\"query\": {\"multi_match\": { \"query\":\"Darth Vader 136\", \"fields\": [ \"name\", \"mass\" ] \n",
    "    }}})"
   ]
  },
  {
   "cell_type": "code",
   "execution_count": 48,
   "metadata": {
    "scrolled": true
   },
   "outputs": [
    {
     "data": {
      "text/plain": [
       "{'took': 17,\n",
       " 'timed_out': False,\n",
       " '_shards': {'total': 1, 'successful': 1, 'skipped': 0, 'failed': 0},\n",
       " 'hits': {'total': {'value': 2, 'relation': 'eq'},\n",
       "  'max_score': 1.0,\n",
       "  'hits': [{'_index': 'sw',\n",
       "    '_type': 'people',\n",
       "    '_id': '1',\n",
       "    '_score': 1.0,\n",
       "    '_source': {'name': 'Luke Skywalker',\n",
       "     'height': '172',\n",
       "     'mass': '77',\n",
       "     'hair_color': 'blond',\n",
       "     'skin_color': 'fair',\n",
       "     'eye_color': 'blue',\n",
       "     'birth_year': '19BBY',\n",
       "     'gender': 'male',\n",
       "     'homeworld': 'http://swapi.dev/api/planets/1/',\n",
       "     'films': ['http://swapi.dev/api/films/1/',\n",
       "      'http://swapi.dev/api/films/2/',\n",
       "      'http://swapi.dev/api/films/3/',\n",
       "      'http://swapi.dev/api/films/6/'],\n",
       "     'species': [],\n",
       "     'vehicles': ['http://swapi.dev/api/vehicles/14/',\n",
       "      'http://swapi.dev/api/vehicles/30/'],\n",
       "     'starships': ['http://swapi.dev/api/starships/12/',\n",
       "      'http://swapi.dev/api/starships/22/'],\n",
       "     'created': '2014-12-09T13:50:51.644000Z',\n",
       "     'edited': '2014-12-20T21:17:56.891000Z',\n",
       "     'url': 'http://swapi.dev/api/people/1/'}},\n",
       "   {'_index': 'sw',\n",
       "    '_type': 'people',\n",
       "    '_id': '64',\n",
       "    '_score': 1.0,\n",
       "    '_source': {'name': 'Luminara Unduli',\n",
       "     'height': '170',\n",
       "     'mass': '56.2',\n",
       "     'hair_color': 'black',\n",
       "     'skin_color': 'yellow',\n",
       "     'eye_color': 'blue',\n",
       "     'birth_year': '58BBY',\n",
       "     'gender': 'female',\n",
       "     'homeworld': 'http://swapi.dev/api/planets/51/',\n",
       "     'films': ['http://swapi.dev/api/films/5/',\n",
       "      'http://swapi.dev/api/films/6/'],\n",
       "     'species': ['http://swapi.dev/api/species/29/'],\n",
       "     'vehicles': [],\n",
       "     'starships': [],\n",
       "     'created': '2014-12-20T16:45:53.668000Z',\n",
       "     'edited': '2014-12-20T21:17:50.455000Z',\n",
       "     'url': 'http://swapi.dev/api/people/64/'}}]}}"
      ]
     },
     "execution_count": 48,
     "metadata": {},
     "output_type": "execute_result"
    }
   ],
   "source": [
    "es.search(index=\"sw\", body={\"query\": {\"prefix\" : { \"name\" : \"lu\" }}})"
   ]
  },
  {
   "cell_type": "code",
   "execution_count": 20,
   "metadata": {},
   "outputs": [
    {
     "data": {
      "text/plain": [
       "{'took': 1118,\n",
       " 'timed_out': False,\n",
       " '_shards': {'total': 1, 'successful': 1, 'skipped': 0, 'failed': 0},\n",
       " 'hits': {'total': {'value': 0, 'relation': 'eq'},\n",
       "  'max_score': None,\n",
       "  'hits': []}}"
      ]
     },
     "execution_count": 20,
     "metadata": {},
     "output_type": "execute_result"
    }
   ],
   "source": [
    "es.search(index=\"sw\", body={\"query\": {\"prefix\" : { \"name\" : \"mol\" }}})"
   ]
  },
  {
   "cell_type": "markdown",
   "metadata": {},
   "source": [
    "Hay muchas otras consultas interesantes que podemos hacer. Si, por ejemplo, queremos obtener todos los elementos similares de alguna manera, para una búsqueda relacionada o de corrección podemos usar algo como esto:"
   ]
  },
  {
   "cell_type": "code",
   "execution_count": 26,
   "metadata": {},
   "outputs": [
    {
     "data": {
      "text/plain": [
       "{'took': 18,\n",
       " 'timed_out': False,\n",
       " '_shards': {'total': 1, 'successful': 1, 'skipped': 0, 'failed': 0},\n",
       " 'hits': {'total': {'value': 12, 'relation': 'eq'},\n",
       "  'max_score': 1.9527993,\n",
       "  'hits': [{'_index': 'sw',\n",
       "    '_type': 'people',\n",
       "    '_id': '9',\n",
       "    '_score': 1.9527993,\n",
       "    '_source': {'name': 'Biggs Darklighter',\n",
       "     'height': '183',\n",
       "     'mass': '84',\n",
       "     'hair_color': 'black',\n",
       "     'skin_color': 'light',\n",
       "     'eye_color': 'brown',\n",
       "     'birth_year': '24BBY',\n",
       "     'gender': 'male',\n",
       "     'homeworld': 'http://swapi.dev/api/planets/1/',\n",
       "     'films': ['http://swapi.dev/api/films/1/'],\n",
       "     'species': [],\n",
       "     'vehicles': [],\n",
       "     'starships': ['http://swapi.dev/api/starships/12/'],\n",
       "     'created': '2014-12-10T15:59:50.509000Z',\n",
       "     'edited': '2014-12-20T21:17:50.323000Z',\n",
       "     'url': 'http://swapi.dev/api/people/9/'}},\n",
       "   {'_index': 'sw',\n",
       "    '_type': 'people',\n",
       "    '_id': '22',\n",
       "    '_score': 1.9527993,\n",
       "    '_source': {'name': 'Boba Fett',\n",
       "     'height': '183',\n",
       "     'mass': '78.2',\n",
       "     'hair_color': 'black',\n",
       "     'skin_color': 'fair',\n",
       "     'eye_color': 'brown',\n",
       "     'birth_year': '31.5BBY',\n",
       "     'gender': 'male',\n",
       "     'homeworld': 'http://swapi.dev/api/planets/10/',\n",
       "     'films': ['http://swapi.dev/api/films/2/',\n",
       "      'http://swapi.dev/api/films/3/',\n",
       "      'http://swapi.dev/api/films/5/'],\n",
       "     'species': [],\n",
       "     'vehicles': [],\n",
       "     'starships': ['http://swapi.dev/api/starships/21/'],\n",
       "     'created': '2014-12-15T12:49:32.457000Z',\n",
       "     'edited': '2014-12-20T21:17:50.349000Z',\n",
       "     'url': 'http://swapi.dev/api/people/22/'}},\n",
       "   {'_index': 'sw',\n",
       "    '_type': 'people',\n",
       "    '_id': '25',\n",
       "    '_score': 1.9527993,\n",
       "    '_source': {'name': 'Lando Calrissian',\n",
       "     'height': '177',\n",
       "     'mass': '79',\n",
       "     'hair_color': 'black',\n",
       "     'skin_color': 'dark',\n",
       "     'eye_color': 'brown',\n",
       "     'birth_year': '31BBY',\n",
       "     'gender': 'male',\n",
       "     'homeworld': 'http://swapi.dev/api/planets/30/',\n",
       "     'films': ['http://swapi.dev/api/films/2/',\n",
       "      'http://swapi.dev/api/films/3/'],\n",
       "     'species': [],\n",
       "     'vehicles': [],\n",
       "     'starships': ['http://swapi.dev/api/starships/10/'],\n",
       "     'created': '2014-12-15T12:56:32.683000Z',\n",
       "     'edited': '2014-12-20T21:17:50.357000Z',\n",
       "     'url': 'http://swapi.dev/api/people/25/'}},\n",
       "   {'_index': 'sw',\n",
       "    '_type': 'people',\n",
       "    '_id': '40',\n",
       "    '_score': 1.9527993,\n",
       "    '_source': {'name': 'Watto',\n",
       "     'height': '137',\n",
       "     'mass': 'unknown',\n",
       "     'hair_color': 'black',\n",
       "     'skin_color': 'blue, grey',\n",
       "     'eye_color': 'yellow',\n",
       "     'birth_year': 'unknown',\n",
       "     'gender': 'male',\n",
       "     'homeworld': 'http://swapi.dev/api/planets/34/',\n",
       "     'films': ['http://swapi.dev/api/films/4/',\n",
       "      'http://swapi.dev/api/films/5/'],\n",
       "     'species': ['http://swapi.dev/api/species/13/'],\n",
       "     'vehicles': [],\n",
       "     'starships': [],\n",
       "     'created': '2014-12-19T17:48:54.647000Z',\n",
       "     'edited': '2014-12-20T21:17:50.395000Z',\n",
       "     'url': 'http://swapi.dev/api/people/40/'}},\n",
       "   {'_index': 'sw',\n",
       "    '_type': 'people',\n",
       "    '_id': '42',\n",
       "    '_score': 1.9527993,\n",
       "    '_source': {'name': 'Quarsh Panaka',\n",
       "     'height': '183',\n",
       "     'mass': 'unknown',\n",
       "     'hair_color': 'black',\n",
       "     'skin_color': 'dark',\n",
       "     'eye_color': 'brown',\n",
       "     'birth_year': '62BBY',\n",
       "     'gender': 'male',\n",
       "     'homeworld': 'http://swapi.dev/api/planets/8/',\n",
       "     'films': ['http://swapi.dev/api/films/4/'],\n",
       "     'species': [],\n",
       "     'vehicles': [],\n",
       "     'starships': [],\n",
       "     'created': '2014-12-19T17:55:43.348000Z',\n",
       "     'edited': '2014-12-20T21:17:50.399000Z',\n",
       "     'url': 'http://swapi.dev/api/people/42/'}},\n",
       "   {'_index': 'sw',\n",
       "    '_type': 'people',\n",
       "    '_id': '43',\n",
       "    '_score': 1.9527993,\n",
       "    '_source': {'name': 'Shmi Skywalker',\n",
       "     'height': '163',\n",
       "     'mass': 'unknown',\n",
       "     'hair_color': 'black',\n",
       "     'skin_color': 'fair',\n",
       "     'eye_color': 'brown',\n",
       "     'birth_year': '72BBY',\n",
       "     'gender': 'female',\n",
       "     'homeworld': 'http://swapi.dev/api/planets/1/',\n",
       "     'films': ['http://swapi.dev/api/films/4/',\n",
       "      'http://swapi.dev/api/films/5/'],\n",
       "     'species': [],\n",
       "     'vehicles': [],\n",
       "     'starships': [],\n",
       "     'created': '2014-12-19T17:57:41.191000Z',\n",
       "     'edited': '2014-12-20T21:17:50.401000Z',\n",
       "     'url': 'http://swapi.dev/api/people/43/'}},\n",
       "   {'_index': 'sw',\n",
       "    '_type': 'people',\n",
       "    '_id': '54',\n",
       "    '_score': 1.9527993,\n",
       "    '_source': {'name': 'Eeth Koth',\n",
       "     'height': '171',\n",
       "     'mass': 'unknown',\n",
       "     'hair_color': 'black',\n",
       "     'skin_color': 'brown',\n",
       "     'eye_color': 'brown',\n",
       "     'birth_year': 'unknown',\n",
       "     'gender': 'male',\n",
       "     'homeworld': 'http://swapi.dev/api/planets/45/',\n",
       "     'films': ['http://swapi.dev/api/films/4/',\n",
       "      'http://swapi.dev/api/films/6/'],\n",
       "     'species': ['http://swapi.dev/api/species/22/'],\n",
       "     'vehicles': [],\n",
       "     'starships': [],\n",
       "     'created': '2014-12-20T10:26:47.902000Z',\n",
       "     'edited': '2014-12-20T21:17:50.427000Z',\n",
       "     'url': 'http://swapi.dev/api/people/54/'}},\n",
       "   {'_index': 'sw',\n",
       "    '_type': 'people',\n",
       "    '_id': '60',\n",
       "    '_score': 1.9527993,\n",
       "    '_source': {'name': 'Gregar Typho',\n",
       "     'height': '185',\n",
       "     'mass': '85',\n",
       "     'hair_color': 'black',\n",
       "     'skin_color': 'dark',\n",
       "     'eye_color': 'brown',\n",
       "     'birth_year': 'unknown',\n",
       "     'gender': 'male',\n",
       "     'homeworld': 'http://swapi.dev/api/planets/8/',\n",
       "     'films': ['http://swapi.dev/api/films/5/'],\n",
       "     'species': [],\n",
       "     'vehicles': [],\n",
       "     'starships': ['http://swapi.dev/api/starships/39/'],\n",
       "     'created': '2014-12-20T11:10:10.381000Z',\n",
       "     'edited': '2014-12-20T21:17:50.445000Z',\n",
       "     'url': 'http://swapi.dev/api/people/60/'}},\n",
       "   {'_index': 'sw',\n",
       "    '_type': 'people',\n",
       "    '_id': '64',\n",
       "    '_score': 1.9527993,\n",
       "    '_source': {'name': 'Luminara Unduli',\n",
       "     'height': '170',\n",
       "     'mass': '56.2',\n",
       "     'hair_color': 'black',\n",
       "     'skin_color': 'yellow',\n",
       "     'eye_color': 'blue',\n",
       "     'birth_year': '58BBY',\n",
       "     'gender': 'female',\n",
       "     'homeworld': 'http://swapi.dev/api/planets/51/',\n",
       "     'films': ['http://swapi.dev/api/films/5/',\n",
       "      'http://swapi.dev/api/films/6/'],\n",
       "     'species': ['http://swapi.dev/api/species/29/'],\n",
       "     'vehicles': [],\n",
       "     'starships': [],\n",
       "     'created': '2014-12-20T16:45:53.668000Z',\n",
       "     'edited': '2014-12-20T21:17:50.455000Z',\n",
       "     'url': 'http://swapi.dev/api/people/64/'}},\n",
       "   {'_index': 'sw',\n",
       "    '_type': 'people',\n",
       "    '_id': '65',\n",
       "    '_score': 1.9527993,\n",
       "    '_source': {'name': 'Barriss Offee',\n",
       "     'height': '166',\n",
       "     'mass': '50',\n",
       "     'hair_color': 'black',\n",
       "     'skin_color': 'yellow',\n",
       "     'eye_color': 'blue',\n",
       "     'birth_year': '40BBY',\n",
       "     'gender': 'female',\n",
       "     'homeworld': 'http://swapi.dev/api/planets/51/',\n",
       "     'films': ['http://swapi.dev/api/films/5/'],\n",
       "     'species': ['http://swapi.dev/api/species/29/'],\n",
       "     'vehicles': [],\n",
       "     'starships': [],\n",
       "     'created': '2014-12-20T16:46:40.440000Z',\n",
       "     'edited': '2014-12-20T21:17:50.457000Z',\n",
       "     'url': 'http://swapi.dev/api/people/65/'}}]}}"
      ]
     },
     "execution_count": 26,
     "metadata": {},
     "output_type": "execute_result"
    }
   ],
   "source": [
    "es.search(index=\"sw\", body={\"query\": {\"more_like_this\": { \"fields\" : [\"name\", \"hair_color\"], \"like\" : \"black or Offee\", \"min_term_freq\" : 1, \"max_query_terms\" : 12}}})"
   ]
  },
  {
   "cell_type": "markdown",
   "metadata": {},
   "source": [
    "<h3>Paso 3: Actualizar Data</h3>"
   ]
  },
  {
   "cell_type": "code",
   "execution_count": 44,
   "metadata": {},
   "outputs": [],
   "source": [
    "# update by index\n",
    "def update_data_by_index(_index, _doc_type, _id, update_data):\n",
    "    res = es.update(\n",
    "        index=_index,\n",
    "        doc_type=_doc_type,\n",
    "        id=_id,\n",
    "        body=update_data\n",
    "    )\n",
    "    return res\n",
    "\n",
    "\n",
    "# update by query\n",
    "def update_by_query(_index, query, field, update_data):\n",
    "    _inline = \"ctx._source.{field}={update_data}\".format(field=field, update_data=update_data)\n",
    "    _query = {\n",
    "        \"script\": {\n",
    "           \"inline\": _inline,\n",
    "        },\n",
    "        \"query\": {\n",
    "           \"match\": query\n",
    "        }\n",
    "    }\n",
    "    res = es.update_by_query(body=_query, index=_index)\n",
    "    return res\n",
    "\n",
    "\n",
    "# update by bulk api\n",
    "def update_by_bulk(_index, _id, update_data, doc_type):\n",
    "    action = [{\n",
    "        \"_id\": _id,\n",
    "        \"_type\": doc_type,\n",
    "        \"_index\": _index,\n",
    "        \"_source\": {\"doc\": update_data},\n",
    "        \"_op_type\": 'update'\n",
    "    }]\n",
    "    res = helpers.bulk(es, action)\n",
    "    return res\n"
   ]
  },
  {
   "cell_type": "code",
   "execution_count": 35,
   "metadata": {},
   "outputs": [
    {
     "data": {
      "text/plain": [
       "{'_index': 'sw',\n",
       " '_type': 'people',\n",
       " '_id': '5',\n",
       " '_version': 3,\n",
       " 'result': 'updated',\n",
       " '_shards': {'total': 2, 'successful': 1, 'failed': 0},\n",
       " '_seq_no': 84,\n",
       " '_primary_term': 1}"
      ]
     },
     "execution_count": 35,
     "metadata": {},
     "output_type": "execute_result"
    }
   ],
   "source": [
    "index = \"sw\"\n",
    "_id = 5\n",
    "_doc_type = \"people\"\n",
    "update_data = {\n",
    "    \"doc\": {'mass': '40'}\n",
    "}\n",
    "res = update_data_by_index(index, _doc_type, _id, update_data)\n",
    "res"
   ]
  },
  {
   "cell_type": "code",
   "execution_count": 36,
   "metadata": {
    "scrolled": true
   },
   "outputs": [
    {
     "data": {
      "text/plain": [
       "{'_index': 'sw',\n",
       " '_type': 'people',\n",
       " '_id': '5',\n",
       " '_version': 3,\n",
       " '_seq_no': 84,\n",
       " '_primary_term': 1,\n",
       " 'found': True,\n",
       " '_source': {'name': 'Leia Organa',\n",
       "  'height': '150',\n",
       "  'mass': '40',\n",
       "  'hair_color': 'brown',\n",
       "  'skin_color': 'light',\n",
       "  'eye_color': 'brown',\n",
       "  'birth_year': '19BBY',\n",
       "  'gender': 'female',\n",
       "  'homeworld': 'http://swapi.dev/api/planets/2/',\n",
       "  'films': ['http://swapi.dev/api/films/1/',\n",
       "   'http://swapi.dev/api/films/2/',\n",
       "   'http://swapi.dev/api/films/3/',\n",
       "   'http://swapi.dev/api/films/6/'],\n",
       "  'species': [],\n",
       "  'vehicles': ['http://swapi.dev/api/vehicles/30/'],\n",
       "  'starships': [],\n",
       "  'created': '2014-12-10T15:20:09.791000Z',\n",
       "  'edited': '2014-12-20T21:17:50.315000Z',\n",
       "  'url': 'http://swapi.dev/api/people/5/'}}"
      ]
     },
     "execution_count": 36,
     "metadata": {},
     "output_type": "execute_result"
    }
   ],
   "source": [
    "es.get(index='sw', doc_type='people', id=5)"
   ]
  },
  {
   "cell_type": "code",
   "execution_count": 45,
   "metadata": {},
   "outputs": [
    {
     "data": {
      "text/plain": [
       "{'took': 106,\n",
       " 'timed_out': False,\n",
       " 'total': 2,\n",
       " 'updated': 2,\n",
       " 'deleted': 0,\n",
       " 'batches': 1,\n",
       " 'version_conflicts': 0,\n",
       " 'noops': 0,\n",
       " 'retries': {'bulk': 0, 'search': 0},\n",
       " 'throttled_millis': 0,\n",
       " 'requests_per_second': -1.0,\n",
       " 'throttled_until_millis': 0,\n",
       " 'failures': []}"
      ]
     },
     "execution_count": 45,
     "metadata": {},
     "output_type": "execute_result"
    }
   ],
   "source": [
    "query = {\"name\": \"Darth Vader\"}\n",
    "field = \"height\"\n",
    "update_data = 208\n",
    "res = update_by_query(index, query, field, update_data)\n",
    "res"
   ]
  },
  {
   "cell_type": "code",
   "execution_count": 47,
   "metadata": {
    "scrolled": true
   },
   "outputs": [
    {
     "data": {
      "text/plain": [
       "{'took': 41,\n",
       " 'timed_out': False,\n",
       " '_shards': {'total': 1, 'successful': 1, 'skipped': 0, 'failed': 0},\n",
       " 'hits': {'total': {'value': 2, 'relation': 'eq'},\n",
       "  'max_score': 6.384812,\n",
       "  'hits': [{'_index': 'sw',\n",
       "    '_type': 'people',\n",
       "    '_id': '4',\n",
       "    '_score': 6.384812,\n",
       "    '_source': {'films': ['http://swapi.dev/api/films/1/',\n",
       "      'http://swapi.dev/api/films/2/',\n",
       "      'http://swapi.dev/api/films/3/',\n",
       "      'http://swapi.dev/api/films/6/'],\n",
       "     'homeworld': 'http://swapi.dev/api/planets/1/',\n",
       "     'gender': 'male',\n",
       "     'skin_color': 'white',\n",
       "     'edited': '2014-12-20T21:17:50.313000Z',\n",
       "     'created': '2014-12-10T15:18:20.704000Z',\n",
       "     'mass': '136',\n",
       "     'vehicles': [],\n",
       "     'url': 'http://swapi.dev/api/people/4/',\n",
       "     'hair_color': 'none',\n",
       "     'birth_year': '41.9BBY',\n",
       "     'eye_color': 'yellow',\n",
       "     'species': [],\n",
       "     'starships': ['http://swapi.dev/api/starships/13/'],\n",
       "     'name': 'Darth Vader',\n",
       "     'height': 208}},\n",
       "   {'_index': 'sw',\n",
       "    '_type': 'people',\n",
       "    '_id': '44',\n",
       "    '_score': 2.902155,\n",
       "    '_source': {'films': ['http://swapi.dev/api/films/4/'],\n",
       "     'homeworld': 'http://swapi.dev/api/planets/36/',\n",
       "     'gender': 'male',\n",
       "     'skin_color': 'red',\n",
       "     'edited': '2014-12-20T21:17:50.403000Z',\n",
       "     'created': '2014-12-19T18:00:41.929000Z',\n",
       "     'mass': '80',\n",
       "     'vehicles': ['http://swapi.dev/api/vehicles/42/'],\n",
       "     'url': 'http://swapi.dev/api/people/44/',\n",
       "     'hair_color': 'none',\n",
       "     'birth_year': '54BBY',\n",
       "     'eye_color': 'yellow',\n",
       "     'species': ['http://swapi.dev/api/species/22/'],\n",
       "     'starships': ['http://swapi.dev/api/starships/41/'],\n",
       "     'name': 'Darth Maul',\n",
       "     'height': 208}}]}}"
      ]
     },
     "execution_count": 47,
     "metadata": {},
     "output_type": "execute_result"
    }
   ],
   "source": [
    "es.search(index=\"sw\", body={\"query\": {\"match\": {'name':\"Darth Vader\"}}})"
   ]
  },
  {
   "cell_type": "code",
   "execution_count": 55,
   "metadata": {},
   "outputs": [
    {
     "name": "stderr",
     "output_type": "stream",
     "text": [
      "/Users/washington/opt/anaconda3/lib/python3.7/site-packages/elasticsearch/connection/base.py:177: ElasticsearchDeprecationWarning: [types removal] Specifying types in bulk requests is deprecated.\n",
      "  warnings.warn(message, category=ElasticsearchDeprecationWarning)\n"
     ]
    },
    {
     "data": {
      "text/plain": [
       "(1, [])"
      ]
     },
     "execution_count": 55,
     "metadata": {},
     "output_type": "execute_result"
    }
   ],
   "source": [
    "from elasticsearch import helpers\n",
    "update_data = {\"age\": 27}\n",
    "res = update_by_bulk(index, _id, update_data, _doc_type)\n",
    "res"
   ]
  },
  {
   "cell_type": "code",
   "execution_count": 56,
   "metadata": {},
   "outputs": [
    {
     "data": {
      "text/plain": [
       "{'_index': 'sw',\n",
       " '_type': 'people',\n",
       " '_id': '5',\n",
       " '_version': 4,\n",
       " '_seq_no': 89,\n",
       " '_primary_term': 1,\n",
       " 'found': True,\n",
       " '_source': {'name': 'Leia Organa',\n",
       "  'height': '150',\n",
       "  'mass': '40',\n",
       "  'hair_color': 'brown',\n",
       "  'skin_color': 'light',\n",
       "  'eye_color': 'brown',\n",
       "  'birth_year': '19BBY',\n",
       "  'gender': 'female',\n",
       "  'homeworld': 'http://swapi.dev/api/planets/2/',\n",
       "  'films': ['http://swapi.dev/api/films/1/',\n",
       "   'http://swapi.dev/api/films/2/',\n",
       "   'http://swapi.dev/api/films/3/',\n",
       "   'http://swapi.dev/api/films/6/'],\n",
       "  'species': [],\n",
       "  'vehicles': ['http://swapi.dev/api/vehicles/30/'],\n",
       "  'starships': [],\n",
       "  'created': '2014-12-10T15:20:09.791000Z',\n",
       "  'edited': '2014-12-20T21:17:50.315000Z',\n",
       "  'url': 'http://swapi.dev/api/people/5/',\n",
       "  'age': 27}}"
      ]
     },
     "execution_count": 56,
     "metadata": {},
     "output_type": "execute_result"
    }
   ],
   "source": [
    "es.get(index='sw', doc_type='people', id=5)"
   ]
  },
  {
   "cell_type": "markdown",
   "metadata": {},
   "source": [
    "<h3>Paso 4: Eliminar Data</h3>"
   ]
  },
  {
   "cell_type": "code",
   "execution_count": 57,
   "metadata": {},
   "outputs": [],
   "source": [
    "def delete_data_by_bulk(_index, _doc_type, _id):\n",
    "    action = [\n",
    "        {\n",
    "            '_op_type': 'delete',\n",
    "            '_index': _index,\n",
    "            '_type': _doc_type,\n",
    "            '_id': _id,\n",
    "        }\n",
    "    ]\n",
    "    res = helpers.bulk(es, action)\n",
    "    return res\n",
    "  \n",
    "  \n",
    "# clear all index items\n",
    "def delete_index(_index):\n",
    "    res = es.indices.delete(index=_index, ignore=[400, 404])\n",
    "    return res\n",
    "\n",
    "\n",
    "# delete content but empty item exist\n",
    "def delete_by_query(_index, query):\n",
    "    res = es.delete_by_query(\n",
    "        index=_index,\n",
    "        body={\"query\": {\"match\": query}},\n",
    "        _source=True\n",
    "    )\n",
    "    return res\n",
    "\n",
    "\n",
    "# delet all item\n",
    "def delete_one(_index, _id):\n",
    "    res = es.delete(index=_index, id=_id)\n",
    "    return res"
   ]
  },
  {
   "cell_type": "code",
   "execution_count": 58,
   "metadata": {},
   "outputs": [],
   "source": [
    "_index = \"sw\"\n",
    "_id = \"5\"\n",
    "res = delete_one(_index, _id)"
   ]
  },
  {
   "cell_type": "code",
   "execution_count": 59,
   "metadata": {},
   "outputs": [
    {
     "ename": "NotFoundError",
     "evalue": "NotFoundError(404, '{\"_index\":\"sw\",\"_type\":\"people\",\"_id\":\"5\",\"found\":false}')",
     "output_type": "error",
     "traceback": [
      "\u001b[0;31m---------------------------------------------------------------------------\u001b[0m",
      "\u001b[0;31mNotFoundError\u001b[0m                             Traceback (most recent call last)",
      "\u001b[0;32m<ipython-input-59-7629269599e1>\u001b[0m in \u001b[0;36m<module>\u001b[0;34m\u001b[0m\n\u001b[0;32m----> 1\u001b[0;31m \u001b[0mes\u001b[0m\u001b[0;34m.\u001b[0m\u001b[0mget\u001b[0m\u001b[0;34m(\u001b[0m\u001b[0mindex\u001b[0m\u001b[0;34m=\u001b[0m\u001b[0;34m'sw'\u001b[0m\u001b[0;34m,\u001b[0m \u001b[0mdoc_type\u001b[0m\u001b[0;34m=\u001b[0m\u001b[0;34m'people'\u001b[0m\u001b[0;34m,\u001b[0m \u001b[0mid\u001b[0m\u001b[0;34m=\u001b[0m\u001b[0;36m5\u001b[0m\u001b[0;34m)\u001b[0m\u001b[0;34m\u001b[0m\u001b[0;34m\u001b[0m\u001b[0m\n\u001b[0m",
      "\u001b[0;32m~/opt/anaconda3/lib/python3.7/site-packages/elasticsearch/client/utils.py\u001b[0m in \u001b[0;36m_wrapped\u001b[0;34m(*args, **kwargs)\u001b[0m\n\u001b[1;32m    137\u001b[0m                 \u001b[0;32mif\u001b[0m \u001b[0mp\u001b[0m \u001b[0;32min\u001b[0m \u001b[0mkwargs\u001b[0m\u001b[0;34m:\u001b[0m\u001b[0;34m\u001b[0m\u001b[0;34m\u001b[0m\u001b[0m\n\u001b[1;32m    138\u001b[0m                     \u001b[0mparams\u001b[0m\u001b[0;34m[\u001b[0m\u001b[0mp\u001b[0m\u001b[0;34m]\u001b[0m \u001b[0;34m=\u001b[0m \u001b[0mkwargs\u001b[0m\u001b[0;34m.\u001b[0m\u001b[0mpop\u001b[0m\u001b[0;34m(\u001b[0m\u001b[0mp\u001b[0m\u001b[0;34m)\u001b[0m\u001b[0;34m\u001b[0m\u001b[0;34m\u001b[0m\u001b[0m\n\u001b[0;32m--> 139\u001b[0;31m             \u001b[0;32mreturn\u001b[0m \u001b[0mfunc\u001b[0m\u001b[0;34m(\u001b[0m\u001b[0;34m*\u001b[0m\u001b[0margs\u001b[0m\u001b[0;34m,\u001b[0m \u001b[0mparams\u001b[0m\u001b[0;34m=\u001b[0m\u001b[0mparams\u001b[0m\u001b[0;34m,\u001b[0m \u001b[0mheaders\u001b[0m\u001b[0;34m=\u001b[0m\u001b[0mheaders\u001b[0m\u001b[0;34m,\u001b[0m \u001b[0;34m**\u001b[0m\u001b[0mkwargs\u001b[0m\u001b[0;34m)\u001b[0m\u001b[0;34m\u001b[0m\u001b[0;34m\u001b[0m\u001b[0m\n\u001b[0m\u001b[1;32m    140\u001b[0m \u001b[0;34m\u001b[0m\u001b[0m\n\u001b[1;32m    141\u001b[0m         \u001b[0;32mreturn\u001b[0m \u001b[0m_wrapped\u001b[0m\u001b[0;34m\u001b[0m\u001b[0;34m\u001b[0m\u001b[0m\n",
      "\u001b[0;32m~/opt/anaconda3/lib/python3.7/site-packages/elasticsearch/client/__init__.py\u001b[0m in \u001b[0;36mget\u001b[0;34m(self, index, id, doc_type, params, headers)\u001b[0m\n\u001b[1;32m    973\u001b[0m \u001b[0;34m\u001b[0m\u001b[0m\n\u001b[1;32m    974\u001b[0m         return self.transport.perform_request(\n\u001b[0;32m--> 975\u001b[0;31m             \u001b[0;34m\"GET\"\u001b[0m\u001b[0;34m,\u001b[0m \u001b[0m_make_path\u001b[0m\u001b[0;34m(\u001b[0m\u001b[0mindex\u001b[0m\u001b[0;34m,\u001b[0m \u001b[0mdoc_type\u001b[0m\u001b[0;34m,\u001b[0m \u001b[0mid\u001b[0m\u001b[0;34m)\u001b[0m\u001b[0;34m,\u001b[0m \u001b[0mparams\u001b[0m\u001b[0;34m=\u001b[0m\u001b[0mparams\u001b[0m\u001b[0;34m,\u001b[0m \u001b[0mheaders\u001b[0m\u001b[0;34m=\u001b[0m\u001b[0mheaders\u001b[0m\u001b[0;34m\u001b[0m\u001b[0;34m\u001b[0m\u001b[0m\n\u001b[0m\u001b[1;32m    976\u001b[0m         )\n\u001b[1;32m    977\u001b[0m \u001b[0;34m\u001b[0m\u001b[0m\n",
      "\u001b[0;32m~/opt/anaconda3/lib/python3.7/site-packages/elasticsearch/transport.py\u001b[0m in \u001b[0;36mperform_request\u001b[0;34m(self, method, url, headers, params, body)\u001b[0m\n\u001b[1;32m    350\u001b[0m                     \u001b[0mheaders\u001b[0m\u001b[0;34m=\u001b[0m\u001b[0mheaders\u001b[0m\u001b[0;34m,\u001b[0m\u001b[0;34m\u001b[0m\u001b[0;34m\u001b[0m\u001b[0m\n\u001b[1;32m    351\u001b[0m                     \u001b[0mignore\u001b[0m\u001b[0;34m=\u001b[0m\u001b[0mignore\u001b[0m\u001b[0;34m,\u001b[0m\u001b[0;34m\u001b[0m\u001b[0;34m\u001b[0m\u001b[0m\n\u001b[0;32m--> 352\u001b[0;31m                     \u001b[0mtimeout\u001b[0m\u001b[0;34m=\u001b[0m\u001b[0mtimeout\u001b[0m\u001b[0;34m,\u001b[0m\u001b[0;34m\u001b[0m\u001b[0;34m\u001b[0m\u001b[0m\n\u001b[0m\u001b[1;32m    353\u001b[0m                 )\n\u001b[1;32m    354\u001b[0m \u001b[0;34m\u001b[0m\u001b[0m\n",
      "\u001b[0;32m~/opt/anaconda3/lib/python3.7/site-packages/elasticsearch/connection/http_urllib3.py\u001b[0m in \u001b[0;36mperform_request\u001b[0;34m(self, method, url, params, body, timeout, ignore, headers)\u001b[0m\n\u001b[1;32m    254\u001b[0m                 \u001b[0mmethod\u001b[0m\u001b[0;34m,\u001b[0m \u001b[0mfull_url\u001b[0m\u001b[0;34m,\u001b[0m \u001b[0murl\u001b[0m\u001b[0;34m,\u001b[0m \u001b[0morig_body\u001b[0m\u001b[0;34m,\u001b[0m \u001b[0mduration\u001b[0m\u001b[0;34m,\u001b[0m \u001b[0mresponse\u001b[0m\u001b[0;34m.\u001b[0m\u001b[0mstatus\u001b[0m\u001b[0;34m,\u001b[0m \u001b[0mraw_data\u001b[0m\u001b[0;34m\u001b[0m\u001b[0;34m\u001b[0m\u001b[0m\n\u001b[1;32m    255\u001b[0m             )\n\u001b[0;32m--> 256\u001b[0;31m             \u001b[0mself\u001b[0m\u001b[0;34m.\u001b[0m\u001b[0m_raise_error\u001b[0m\u001b[0;34m(\u001b[0m\u001b[0mresponse\u001b[0m\u001b[0;34m.\u001b[0m\u001b[0mstatus\u001b[0m\u001b[0;34m,\u001b[0m \u001b[0mraw_data\u001b[0m\u001b[0;34m)\u001b[0m\u001b[0;34m\u001b[0m\u001b[0;34m\u001b[0m\u001b[0m\n\u001b[0m\u001b[1;32m    257\u001b[0m \u001b[0;34m\u001b[0m\u001b[0m\n\u001b[1;32m    258\u001b[0m         self.log_request_success(\n",
      "\u001b[0;32m~/opt/anaconda3/lib/python3.7/site-packages/elasticsearch/connection/base.py\u001b[0m in \u001b[0;36m_raise_error\u001b[0;34m(self, status_code, raw_data)\u001b[0m\n\u001b[1;32m    286\u001b[0m \u001b[0;34m\u001b[0m\u001b[0m\n\u001b[1;32m    287\u001b[0m         raise HTTP_EXCEPTIONS.get(status_code, TransportError)(\n\u001b[0;32m--> 288\u001b[0;31m             \u001b[0mstatus_code\u001b[0m\u001b[0;34m,\u001b[0m \u001b[0merror_message\u001b[0m\u001b[0;34m,\u001b[0m \u001b[0madditional_info\u001b[0m\u001b[0;34m\u001b[0m\u001b[0;34m\u001b[0m\u001b[0m\n\u001b[0m\u001b[1;32m    289\u001b[0m         )\n\u001b[1;32m    290\u001b[0m \u001b[0;34m\u001b[0m\u001b[0m\n",
      "\u001b[0;31mNotFoundError\u001b[0m: NotFoundError(404, '{\"_index\":\"sw\",\"_type\":\"people\",\"_id\":\"5\",\"found\":false}')"
     ]
    }
   ],
   "source": [
    "es.get(index='sw', doc_type='people', id=5)"
   ]
  },
  {
   "cell_type": "markdown",
   "metadata": {},
   "source": [
    "<p>Algunas búsquedas mas:</p>"
   ]
  },
  {
   "cell_type": "code",
   "execution_count": 61,
   "metadata": {},
   "outputs": [
    {
     "name": "stdout",
     "output_type": "stream",
     "text": [
      "{'took': 3, 'timed_out': False, '_shards': {'total': 1, 'successful': 1, 'skipped': 0, 'failed': 0}, 'hits': {'total': {'value': 2, 'relation': 'eq'}, 'max_score': 1.0, 'hits': [{'_index': 'sw', '_type': 'people', '_id': '1', '_score': 1.0, '_source': {'name': 'Luke Skywalker', 'height': '172', 'mass': '77', 'hair_color': 'blond', 'skin_color': 'fair', 'eye_color': 'blue', 'birth_year': '19BBY', 'gender': 'male', 'homeworld': 'http://swapi.dev/api/planets/1/', 'films': ['http://swapi.dev/api/films/1/', 'http://swapi.dev/api/films/2/', 'http://swapi.dev/api/films/3/', 'http://swapi.dev/api/films/6/'], 'species': [], 'vehicles': ['http://swapi.dev/api/vehicles/14/', 'http://swapi.dev/api/vehicles/30/'], 'starships': ['http://swapi.dev/api/starships/12/', 'http://swapi.dev/api/starships/22/'], 'created': '2014-12-09T13:50:51.644000Z', 'edited': '2014-12-20T21:17:56.891000Z', 'url': 'http://swapi.dev/api/people/1/'}}, {'_index': 'sw', '_type': 'people', '_id': '64', '_score': 1.0, '_source': {'name': 'Luminara Unduli', 'height': '170', 'mass': '56.2', 'hair_color': 'black', 'skin_color': 'yellow', 'eye_color': 'blue', 'birth_year': '58BBY', 'gender': 'female', 'homeworld': 'http://swapi.dev/api/planets/51/', 'films': ['http://swapi.dev/api/films/5/', 'http://swapi.dev/api/films/6/'], 'species': ['http://swapi.dev/api/species/29/'], 'vehicles': [], 'starships': [], 'created': '2014-12-20T16:45:53.668000Z', 'edited': '2014-12-20T21:17:50.455000Z', 'url': 'http://swapi.dev/api/people/64/'}}]}}\n"
     ]
    }
   ],
   "source": [
    "# you need search in particular field and keyword must be word, not letter\n",
    "def full_text_search(keyword, index, field):\n",
    "    res = es.search(\n",
    "        index=index,\n",
    "        body={\n",
    "            \"query\":{\n",
    "                \"match\": {\n",
    "                    field: keyword\n",
    "                }\n",
    "            }\n",
    "        }\n",
    "    )\n",
    "    return res\n",
    "\n",
    "\n",
    "def regex_search(pat, index, field):\n",
    "    res = es.search(\n",
    "        index=index,\n",
    "        body={\n",
    "            \"query\":{\n",
    "                \"regexp\": {\n",
    "                    field: pat\n",
    "                }\n",
    "            }\n",
    "        }\n",
    "    )\n",
    "    return res\n",
    "\n",
    "\n",
    "def prefix_search(prefix, index, field):\n",
    "    res = es.search(\n",
    "        index=index,\n",
    "        body={\n",
    "            \"query\":{\n",
    "                \"prefix\": {\n",
    "                    field: prefix\n",
    "                }\n",
    "            }\n",
    "        }\n",
    "    )\n",
    "    return res\n",
    "\n",
    "\n",
    "if __name__ == \"__main__\":\n",
    "    index = \"sw\"\n",
    "    keyword = \"name\"\n",
    "    field = \"name\"\n",
    "    regex_pat = \".*?e.+\"\n",
    "    prefix = \"lu\"\n",
    "    res = full_text_search(keyword, index, field)\n",
    "    res = regex_search(regex_pat, index, field)\n",
    "    res = prefix_search(prefix, index, field)\n",
    "    print(res)"
   ]
  },
  {
   "cell_type": "markdown",
   "metadata": {},
   "source": [
    "<h2>Bibliografía</h2>\n",
    "<ul>\n",
    "    <li><a href=\"https://www.elastic.co\">https://www.elastic.co</a></li>\n",
    "    <li><a href=\"https://www.adictosaltrabajo.com/2014/09/12/primeros-pasos-elasticsearch/\">https://www.adictosaltrabajo.com/2014/09/12/primeros-pasos-elasticsearch/</a></li>\n",
    "    <li><a href=\"https://medium.com/analytics-vidhya/quick-start-elasticsearch-with-python-a2578cd87339\">https://medium.com/analytics-vidhya/quick-start-elasticsearch-with-python-a2578cd87339</a></li>\n",
    "</ul>"
   ]
  },
  {
   "cell_type": "code",
   "execution_count": null,
   "metadata": {},
   "outputs": [],
   "source": []
  }
 ],
 "metadata": {
  "kernelspec": {
   "display_name": "Python 3",
   "language": "python",
   "name": "python3"
  },
  "language_info": {
   "codemirror_mode": {
    "name": "ipython",
    "version": 3
   },
   "file_extension": ".py",
   "mimetype": "text/x-python",
   "name": "python",
   "nbconvert_exporter": "python",
   "pygments_lexer": "ipython3",
   "version": "3.7.4"
  }
 },
 "nbformat": 4,
 "nbformat_minor": 2
}
