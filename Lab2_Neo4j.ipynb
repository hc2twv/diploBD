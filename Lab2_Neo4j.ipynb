{
 "cells": [
  {
   "cell_type": "markdown",
   "metadata": {},
   "source": [
    "<img src=\"http://www.espol.edu.ec/sites/default/files/nuevaespol/logo_negro.png\" width=\"301\" height=\"58\" />"
   ]
  },
  {
   "cell_type": "markdown",
   "metadata": {},
   "source": [
    "#     FACULTAD DE INGENIER&Iacute;A EN ELECTRICIDAD Y COMPUTACI&Oacute;N\n",
    "##   DIPLOMADO EN CIENCIA DE DATOS PARA LOS NEGOCIOS\n",
    "###  Laboratorio 2: Neo4j"
   ]
  },
  {
   "cell_type": "markdown",
   "metadata": {},
   "source": [
    "<h3><strong>Introducci&oacute;n</strong></h3>\n",
    "<p class=\"selectionShareable\">Neo4j usa grafos para representar datos y las relaciones entre ellos. Un grafo se define como cualquier representaci&oacute;n gr&aacute;fica formada por v&eacute;rtices (se ilustran mediante c&iacute;rculos) y aristas (se muestran mediante l&iacute;neas de intersecci&oacute;n). Dentro de estas representaciones gr&aacute;ficas, tenemos varios tipos de grafos:</p>\n",
    "<p class=\"selectionShareable\"><strong>- Grafos no dirigidos:</strong> los nodos y las relaciones son intercambiables, su relaci&oacute;n se puede interpretar en cualquier sentido. Las relaciones de amistad en la red social Facebook, por ejemplo, son de este tipo.</p>\n",
    "<p class=\"selectionShareable\"><strong>- Grafos dirigidos</strong>: los nodos y la relaciones no son bidireccionales por defecto. Las relaciones en Twitter son de este tipo. Un usuario puede seguir a determinados perfiles en esta red social sin que ellos le sigan a &eacute;l.</p>\n",
    "<p class=\"selectionShareable\"><strong>- Grafos con peso</strong>: en este tipo de gr&aacute;ficas las relaciones entre nodos tienen alg&uacute;n tipo de valoraci&oacute;n num&eacute;rica. Eso permite luego hacer operaciones.</p>\n",
    "<p class=\"selectionShareable\"><strong>- Grafos con etiquetas</strong>: estos grafos llevan incorporadas etiquetas que pueden definir los distintos v&eacute;rtices y tambi&eacute;n las relaciones entre ellos. En Facebook podr&iacute;amos tener nodos definidos por t&eacute;rminos como &lsquo;amigo&rsquo; o &lsquo;compa&ntilde;ero de trabajo&rsquo; y la relaciones como &lsquo;amigo de&rsquo; o &lsquo;socio de&rsquo;.</p>\n",
    "<p class=\"selectionShareable\"><strong>- Grafos de propiedad</strong>: es un grafo con peso, con etiquetas y donde podemos asignar propiedades tanto a nodos como relaciones (por ejemplo, cuestiones como nombre, edad, pa&iacute;s de residencia, nacimiento). Es el m&aacute;s complejo.</p>\n",
    "<p class=\"selectionShareable\">Neo4j utiliza grafos de propiedad para extraer valor a&ntilde;adido de los datos de cualquier empresa con gran rendimiento y de una forma &aacute;gil, flexible y escalable.</p>"
   ]
  },
  {
   "cell_type": "markdown",
   "metadata": {},
   "source": [
    "<h3>Procedimiento</h3>\n",
    "<br/>\n",
    "Métodos para conexión con Neo4j utilizando Python <a href=https://neo4j.com/developer/python/>https://neo4j.com/developer/python/</a>"
   ]
  },
  {
   "cell_type": "markdown",
   "metadata": {},
   "source": [
    "Movie Graph es una aplicación de mini gráfico que contiene actores y directores relacionados a través de las películas en las que han colaborado.\n",
    "<img src=\"https://dist.neo4j.com/wp-content/uploads/style_person_node.png\" alt=\"style person node\">"
   ]
  },
  {
   "cell_type": "markdown",
   "metadata": {},
   "source": [
    "<h3>Paso 1: Conexión a la Base de Datos Neo4j</h3>"
   ]
  },
  {
   "cell_type": "code",
   "execution_count": 7,
   "metadata": {},
   "outputs": [
    {
     "data": {
      "text/plain": [
       "<neo4j.BoltDriver at 0x10765fd50>"
      ]
     },
     "execution_count": 7,
     "metadata": {},
     "output_type": "execute_result"
    }
   ],
   "source": [
    "#connection to Neo4j\n",
    "from neo4j import GraphDatabase\n",
    "\n",
    "URI = \"bolt://localhost:7687\"\n",
    "USER = \"neo4j\"\n",
    "PASSWD = \"hc2twv\"\n",
    "\n",
    "\n",
    "_driver = GraphDatabase.driver(URI, auth=(USER, PASSWD));\n",
    "_driver"
   ]
  },
  {
   "cell_type": "code",
   "execution_count": 9,
   "metadata": {},
   "outputs": [
    {
     "data": {
      "text/plain": [
       "<neo4j.work.simple.Session at 0x1075eb950>"
      ]
     },
     "execution_count": 9,
     "metadata": {},
     "output_type": "execute_result"
    }
   ],
   "source": [
    "session = _driver.session()\n",
    "session"
   ]
  },
  {
   "cell_type": "markdown",
   "metadata": {},
   "source": [
    "<h3>Paso 2: Aprendiendo CYPHER</h3>\n",
    "<p>Antes de jugar con la BD es necesario aprender Cypher. Puede ver información del lenguaje en: <a href=\"https://neo4j.com/developer/cypher-basics-i/\">https://neo4j.com/developer/cypher-basics-i/</a></p> "
   ]
  },
  {
   "cell_type": "markdown",
   "metadata": {},
   "source": [
    "[![Watch the video](https://i.imgur.com/vKb2F1B.png)](https://www.youtube.com/embed/l76udM3wB4U)"
   ]
  },
  {
   "cell_type": "markdown",
   "metadata": {},
   "source": [
    "<h3>Paso 3: Búsqueda de datos en la BD</h3>"
   ]
  },
  {
   "cell_type": "code",
   "execution_count": 14,
   "metadata": {},
   "outputs": [
    {
     "data": {
      "text/plain": [
       "<Node id=74 labels=frozenset({'Person'}) properties={'name': 'Tom Hanks', 'born': 1956}>"
      ]
     },
     "execution_count": 14,
     "metadata": {},
     "output_type": "execute_result"
    }
   ],
   "source": [
    "result = session.run(\"MATCH (tom {name: 'Tom Hanks'}) RETURN tom\")\n",
    "result.single()[0]"
   ]
  },
  {
   "cell_type": "code",
   "execution_count": 16,
   "metadata": {},
   "outputs": [
    {
     "data": {
      "text/plain": [
       "<Node id=108 labels=frozenset({'Movie'}) properties={'title': 'Cloud Atlas', 'tagline': 'Everything is connected', 'released': 2012}>"
      ]
     },
     "execution_count": 16,
     "metadata": {},
     "output_type": "execute_result"
    }
   ],
   "source": [
    "result = session.run(\"MATCH (cloudAtlas {title: 'Cloud Atlas'}) RETURN cloudAtlas\")\n",
    "result.single()[0]"
   ]
  },
  {
   "cell_type": "code",
   "execution_count": 19,
   "metadata": {},
   "outputs": [
    {
     "name": "stdout",
     "output_type": "stream",
     "text": [
      "<Record people.name='Adrian'>\n",
      "<Record people.name='Demi Moore'>\n",
      "<Record people.name='Kevin Bacon'>\n",
      "<Record people.name='Kiefer Sutherland'>\n",
      "<Record people.name='Noah Wyle'>\n",
      "<Record people.name='Cuba Gooding Jr.'>\n",
      "<Record people.name='Kevin Pollak'>\n",
      "<Record people.name='J.T. Walsh'>\n",
      "<Record people.name='James Marshall'>\n",
      "<Record people.name='Christopher Guest'>\n"
     ]
    }
   ],
   "source": [
    "result = session.run(\"MATCH (people:Person) RETURN people.name LIMIT 10\")\n",
    "for nodo in result:\n",
    "    print(nodo)"
   ]
  },
  {
   "cell_type": "code",
   "execution_count": 28,
   "metadata": {},
   "outputs": [
    {
     "name": "stdout",
     "output_type": "stream",
     "text": [
      "The Matrix\n",
      "The Devil's Advocate\n",
      "A Few Good Men\n",
      "As Good as It Gets\n",
      "What Dreams May Come\n",
      "Snow Falling on Cedars\n",
      "You've Got Mail\n",
      "Sleepless in Seattle\n",
      "Joe Versus the Volcano\n",
      "When Harry Met Sally\n",
      "That Thing You Do\n",
      "The Birdcage\n",
      "Unforgiven\n",
      "Johnny Mnemonic\n",
      "The Green Mile\n",
      "Hoffa\n",
      "Apollo 13\n",
      "Twister\n",
      "Bicentennial Man\n",
      "A League of Their Own\n"
     ]
    }
   ],
   "source": [
    "result = session.run(\"MATCH (nineties:Movie) WHERE nineties.released >= 1990 AND nineties.released < 2000 RETURN nineties.title\")\n",
    "for nodo in result:\n",
    "    print(nodo[0])"
   ]
  },
  {
   "cell_type": "markdown",
   "metadata": {},
   "source": [
    "<h3>Paso 4: Query's (Encontrando patrones con el grafo)</h3>"
   ]
  },
  {
   "cell_type": "code",
   "execution_count": 29,
   "metadata": {},
   "outputs": [
    {
     "name": "stdout",
     "output_type": "stream",
     "text": [
      "<Record tom=<Node id=74 labels=frozenset({'Person'}) properties={'name': 'Tom Hanks', 'born': 1956}> tomHanksMovies=<Node id=153 labels=frozenset({'Movie'}) properties={'title': 'Cast Away', 'tagline': 'At the edge of the world, his journey begins.', 'released': 2000}>>\n",
      "<Record tom=<Node id=74 labels=frozenset({'Person'}) properties={'name': 'Tom Hanks', 'born': 1956}> tomHanksMovies=<Node id=162 labels=frozenset({'Movie'}) properties={'title': \"Charlie Wilson's War\", 'tagline': \"A stiff drink. A little mascara. A lot of nerve. Who said they couldn't bring down the Soviet empire.\", 'released': 2007}>>\n",
      "<Record tom=<Node id=74 labels=frozenset({'Person'}) properties={'name': 'Tom Hanks', 'born': 1956}> tomHanksMovies=<Node id=88 labels=frozenset({'Movie'}) properties={'title': 'That Thing You Do', 'tagline': 'In every life there comes a time when that thing you dream becomes that thing you do', 'released': 1996}>>\n",
      "<Record tom=<Node id=74 labels=frozenset({'Person'}) properties={'name': 'Tom Hanks', 'born': 1956}> tomHanksMovies=<Node id=76 labels=frozenset({'Movie'}) properties={'title': 'Sleepless in Seattle', 'tagline': 'What if someone you never met, someone you never saw, someone you never knew was the only someone for you?', 'released': 1993}>>\n",
      "<Record tom=<Node id=74 labels=frozenset({'Person'}) properties={'name': 'Tom Hanks', 'born': 1956}> tomHanksMovies=<Node id=70 labels=frozenset({'Movie'}) properties={'title': \"You've Got Mail\", 'tagline': 'At odds in life... in love on-line.', 'released': 1998}>>\n",
      "<Record tom=<Node id=74 labels=frozenset({'Person'}) properties={'name': 'Tom Hanks', 'born': 1956}> tomHanksMovies=<Node id=147 labels=frozenset({'Movie'}) properties={'title': 'Apollo 13', 'tagline': 'Houston, we have a problem.', 'released': 1995}>>\n",
      "<Record tom=<Node id=74 labels=frozenset({'Person'}) properties={'name': 'Tom Hanks', 'born': 1956}> tomHanksMovies=<Node id=133 labels=frozenset({'Movie'}) properties={'title': 'The Green Mile', 'tagline': \"Walk a mile you'll never forget.\", 'released': 1999}>>\n",
      "<Record tom=<Node id=74 labels=frozenset({'Person'}) properties={'name': 'Tom Hanks', 'born': 1956}> tomHanksMovies=<Node id=165 labels=frozenset({'Movie'}) properties={'title': 'A League of Their Own', 'tagline': 'Once in a lifetime you get a chance to do something different.', 'released': 1992}>>\n",
      "<Record tom=<Node id=74 labels=frozenset({'Person'}) properties={'name': 'Tom Hanks', 'born': 1956}> tomHanksMovies=<Node id=114 labels=frozenset({'Movie'}) properties={'title': 'The Da Vinci Code', 'tagline': 'Break The Codes', 'released': 2006}>>\n",
      "<Record tom=<Node id=74 labels=frozenset({'Person'}) properties={'name': 'Tom Hanks', 'born': 1956}> tomHanksMovies=<Node id=108 labels=frozenset({'Movie'}) properties={'title': 'Cloud Atlas', 'tagline': 'Everything is connected', 'released': 2012}>>\n",
      "<Record tom=<Node id=74 labels=frozenset({'Person'}) properties={'name': 'Tom Hanks', 'born': 1956}> tomHanksMovies=<Node id=164 labels=frozenset({'Movie'}) properties={'title': 'The Polar Express', 'tagline': 'This Holiday Season… Believe', 'released': 2004}>>\n",
      "<Record tom=<Node id=74 labels=frozenset({'Person'}) properties={'name': 'Tom Hanks', 'born': 1956}> tomHanksMovies=<Node id=81 labels=frozenset({'Movie'}) properties={'title': 'Joe Versus the Volcano', 'tagline': 'A story of love, lava and burning desire.', 'released': 1990}>>\n"
     ]
    }
   ],
   "source": [
    "result = session.run(\"MATCH (tom:Person {name: 'Tom Hanks'})-[:ACTED_IN]->(tomHanksMovies) RETURN tom,tomHanksMovies\")\n",
    "for nodo in result:\n",
    "    print(nodo)"
   ]
  },
  {
   "cell_type": "code",
   "execution_count": 31,
   "metadata": {},
   "outputs": [
    {
     "name": "stdout",
     "output_type": "stream",
     "text": [
      "<Record directors.name='Lana Wachowski'>\n",
      "<Record directors.name='Lilly Wachowski'>\n",
      "<Record directors.name='Tom Tykwer'>\n"
     ]
    }
   ],
   "source": [
    "result = session.run(\"MATCH (cloudAtlas {title: 'Cloud Atlas'})<-[:DIRECTED]-(directors) RETURN directors.name\")\n",
    "for nodo in result:\n",
    "    print(nodo)"
   ]
  },
  {
   "cell_type": "code",
   "execution_count": 32,
   "metadata": {},
   "outputs": [
    {
     "name": "stdout",
     "output_type": "stream",
     "text": [
      "<Record coActors.name='Helen Hunt'>\n",
      "<Record coActors.name='Philip Seymour Hoffman'>\n",
      "<Record coActors.name='Julia Roberts'>\n",
      "<Record coActors.name='Liv Tyler'>\n",
      "<Record coActors.name='Charlize Theron'>\n",
      "<Record coActors.name=\"Rosie O'Donnell\">\n",
      "<Record coActors.name='Bill Pullman'>\n",
      "<Record coActors.name='Rita Wilson'>\n",
      "<Record coActors.name='Meg Ryan'>\n",
      "<Record coActors.name='Victor Garber'>\n",
      "<Record coActors.name='Steve Zahn'>\n",
      "<Record coActors.name='Greg Kinnear'>\n",
      "<Record coActors.name='Meg Ryan'>\n",
      "<Record coActors.name='Dave Chappelle'>\n",
      "<Record coActors.name='Parker Posey'>\n",
      "<Record coActors.name='Gary Sinise'>\n",
      "<Record coActors.name='Kevin Bacon'>\n",
      "<Record coActors.name='Bill Paxton'>\n",
      "<Record coActors.name='Ed Harris'>\n",
      "<Record coActors.name='James Cromwell'>\n",
      "<Record coActors.name='David Morse'>\n",
      "<Record coActors.name='Gary Sinise'>\n",
      "<Record coActors.name='Bonnie Hunt'>\n",
      "<Record coActors.name='Patricia Clarkson'>\n",
      "<Record coActors.name='Michael Clarke Duncan'>\n",
      "<Record coActors.name='Sam Rockwell'>\n",
      "<Record coActors.name=\"Rosie O'Donnell\">\n",
      "<Record coActors.name='Bill Paxton'>\n",
      "<Record coActors.name='Lori Petty'>\n",
      "<Record coActors.name='Madonna'>\n",
      "<Record coActors.name='Geena Davis'>\n",
      "<Record coActors.name='Paul Bettany'>\n",
      "<Record coActors.name='Ian McKellen'>\n",
      "<Record coActors.name='Audrey Tautou'>\n",
      "<Record coActors.name='Halle Berry'>\n",
      "<Record coActors.name='Jim Broadbent'>\n",
      "<Record coActors.name='Hugo Weaving'>\n",
      "<Record coActors.name='Nathan Lane'>\n",
      "<Record coActors.name='Meg Ryan'>\n"
     ]
    }
   ],
   "source": [
    "result = session.run(\"MATCH (tom:Person {name:'Tom Hanks'})-[:ACTED_IN]->(m)<-[:ACTED_IN]-(coActors) RETURN coActors.name\")\n",
    "for nodo in result:\n",
    "    print(nodo)"
   ]
  },
  {
   "cell_type": "code",
   "execution_count": 34,
   "metadata": {},
   "outputs": [
    {
     "name": "stdout",
     "output_type": "stream",
     "text": [
      "<Record people.name='Stefan Arndt' Type(relatedTo)='PRODUCED' relatedTo=<Relationship id=146 nodes=(<Node id=113 labels=frozenset() properties={}>, <Node id=108 labels=frozenset() properties={}>) type='PRODUCED' properties={}>>\n",
      "<Record people.name='Halle Berry' Type(relatedTo)='ACTED_IN' relatedTo=<Relationship id=140 nodes=(<Node id=109 labels=frozenset() properties={}>, <Node id=108 labels=frozenset() properties={}>) type='ACTED_IN' properties={'roles': ['Luisa Rey', 'Jocasta Ayrs', 'Ovid', 'Meronym']}>>\n",
      "<Record people.name='Lana Wachowski' Type(relatedTo)='DIRECTED' relatedTo=<Relationship id=144 nodes=(<Node id=28 labels=frozenset() properties={}>, <Node id=108 labels=frozenset() properties={}>) type='DIRECTED' properties={}>>\n",
      "<Record people.name='Jim Broadbent' Type(relatedTo)='ACTED_IN' relatedTo=<Relationship id=141 nodes=(<Node id=110 labels=frozenset() properties={}>, <Node id=108 labels=frozenset() properties={}>) type='ACTED_IN' properties={'roles': ['Vyvyan Ayrs', 'Captain Molyneux', 'Timothy Cavendish']}>>\n",
      "<Record people.name='Jessica Thompson' Type(relatedTo)='REVIEWED' relatedTo=<Relationship id=245 nodes=(<Node id=172 labels=frozenset() properties={}>, <Node id=108 labels=frozenset() properties={}>) type='REVIEWED' properties={'summary': 'An amazing journey', 'rating': 95}>>\n",
      "<Record people.name='Lilly Wachowski' Type(relatedTo)='DIRECTED' relatedTo=<Relationship id=143 nodes=(<Node id=27 labels=frozenset() properties={}>, <Node id=108 labels=frozenset() properties={}>) type='DIRECTED' properties={}>>\n",
      "<Record people.name='David Mitchell' Type(relatedTo)='WROTE' relatedTo=<Relationship id=145 nodes=(<Node id=112 labels=frozenset() properties={}>, <Node id=108 labels=frozenset() properties={}>) type='WROTE' properties={}>>\n",
      "<Record people.name='Hugo Weaving' Type(relatedTo)='ACTED_IN' relatedTo=<Relationship id=139 nodes=(<Node id=26 labels=frozenset() properties={}>, <Node id=108 labels=frozenset() properties={}>) type='ACTED_IN' properties={'roles': ['Bill Smoke', 'Haskell Moore', 'Tadeusz Kesselring', 'Nurse Noakes', 'Boardman Mephi', 'Old Georgie']}>>\n",
      "<Record people.name='Tom Hanks' Type(relatedTo)='ACTED_IN' relatedTo=<Relationship id=138 nodes=(<Node id=74 labels=frozenset() properties={}>, <Node id=108 labels=frozenset() properties={}>) type='ACTED_IN' properties={'roles': ['Zachry', 'Dr. Henry Goose', 'Isaac Sachs', 'Dermot Hoggins']}>>\n",
      "<Record people.name='Tom Tykwer' Type(relatedTo)='DIRECTED' relatedTo=<Relationship id=142 nodes=(<Node id=111 labels=frozenset() properties={}>, <Node id=108 labels=frozenset() properties={}>) type='DIRECTED' properties={}>>\n"
     ]
    }
   ],
   "source": [
    "result = session.run(\"MATCH (people:Person)-[relatedTo]-(:Movie {title: 'Cloud Atlas'}) RETURN people.name, Type(relatedTo), relatedTo\")\n",
    "for nodo in result:\n",
    "    print(nodo)"
   ]
  },
  {
   "cell_type": "markdown",
   "metadata": {},
   "source": [
    "<h3>Paso 5: Búsqueda de Caminos </h3>\n",
    "<p>Bacon Path, el camino más corto de cualquier relación con Meg Ryan</p>"
   ]
  },
  {
   "cell_type": "code",
   "execution_count": 38,
   "metadata": {},
   "outputs": [
    {
     "name": "stdout",
     "output_type": "stream",
     "text": [
      "<Record p=<Path start=<Node id=2 labels=frozenset({'Person'}) properties={'name': 'Kevin Bacon', 'born': 1958}> end=<Node id=17 labels=frozenset({'Person'}) properties={'name': 'Meg Ryan', 'born': 1961}> size=4>>\n"
     ]
    }
   ],
   "source": [
    "result = session.run(\"MATCH p=shortestPath((bacon:Person {name:'Kevin Bacon'})-[*]-(meg:Person {name:'Meg Ryan'})) RETURN p\")\n",
    "for nodo in result:\n",
    "    print(nodo)\n"
   ]
  },
  {
   "cell_type": "markdown",
   "metadata": {},
   "source": [
    "<h3>Paso 6: Recomendaciones</h3>"
   ]
  },
  {
   "cell_type": "code",
   "execution_count": 42,
   "metadata": {},
   "outputs": [
    {
     "name": "stdout",
     "output_type": "stream",
     "text": [
      "<Record Recommended='Zach Grenier' Strength=5>\n",
      "<Record Recommended='Tom Cruise' Strength=5>\n",
      "<Record Recommended='Cuba Gooding Jr.' Strength=4>\n",
      "<Record Recommended='Keanu Reeves' Strength=4>\n",
      "<Record Recommended='Jack Nicholson' Strength=3>\n",
      "<Record Recommended='Carrie Fisher' Strength=3>\n",
      "<Record Recommended='Billy Crystal' Strength=3>\n",
      "<Record Recommended='Bruno Kirby' Strength=3>\n",
      "<Record Recommended='Kelly McGillis' Strength=3>\n",
      "<Record Recommended='Tom Skerritt' Strength=3>\n",
      "<Record Recommended='Anthony Edwards' Strength=3>\n",
      "<Record Recommended='Val Kilmer' Strength=3>\n",
      "<Record Recommended='Laurence Fishburne' Strength=3>\n",
      "<Record Recommended='Carrie-Anne Moss' Strength=3>\n",
      "<Record Recommended='Oliver Platt' Strength=2>\n",
      "<Record Recommended='Frank Langella' Strength=2>\n",
      "<Record Recommended='Michael Sheen' Strength=2>\n",
      "<Record Recommended='Al Pacino' Strength=1>\n",
      "<Record Recommended='Christian Bale' Strength=1>\n",
      "<Record Recommended='Marshall Bell' Strength=1>\n",
      "<Record Recommended='J.T. Walsh' Strength=1>\n",
      "<Record Recommended='Kevin Pollak' Strength=1>\n",
      "<Record Recommended='Christopher Guest' Strength=1>\n",
      "<Record Recommended='Noah Wyle' Strength=1>\n",
      "<Record Recommended='James Marshall' Strength=1>\n",
      "<Record Recommended='Aaron Sorkin' Strength=1>\n",
      "<Record Recommended='Kiefer Sutherland' Strength=1>\n",
      "<Record Recommended='Demi Moore' Strength=1>\n",
      "<Record Recommended='Ethan Hawke' Strength=1>\n",
      "<Record Recommended='Rick Yune' Strength=1>\n",
      "<Record Recommended='Max von Sydow' Strength=1>\n",
      "<Record Recommended='Kelly Preston' Strength=1>\n",
      "<Record Recommended='Jay Mohr' Strength=1>\n",
      "<Record Recommended='Jonathan Lipnicki' Strength=1>\n",
      "<Record Recommended=\"Jerry O'Connell\" Strength=1>\n",
      "<Record Recommended='Regina King' Strength=1>\n",
      "<Record Recommended='Renee Zellweger' Strength=1>\n",
      "<Record Recommended='Stephen Rea' Strength=1>\n",
      "<Record Recommended='Natalie Portman' Strength=1>\n",
      "<Record Recommended='Ben Miles' Strength=1>\n",
      "<Record Recommended='John Hurt' Strength=1>\n",
      "<Record Recommended='Emil Eifrem' Strength=1>\n",
      "<Record Recommended='Gene Hackman' Strength=1>\n",
      "<Record Recommended='Robin Williams' Strength=1>\n"
     ]
    }
   ],
   "source": [
    "#Extienda a los co-actores de Tom Hanks, para encontrar co-actores que no hayan trabajado con Tom Hanks ...\n",
    "query = \"MATCH (tom:Person {name:'Tom Hanks'})-[:ACTED_IN]->(m)<-[:ACTED_IN]-(coActors), \"\\\n",
    "        \"(coActors)-[:ACTED_IN]->(m2)<-[:ACTED_IN]-(cocoActors) \"\\\n",
    "        \"WHERE NOT (tom)-[:ACTED_IN]->()<-[:ACTED_IN]-(cocoActors) AND tom <> cocoActors \"\\\n",
    "        \"RETURN cocoActors.name AS Recommended, count(*) AS Strength ORDER BY Strength DESC\"\n",
    "\n",
    "result = session.run(query)\n",
    "for nodo in result:\n",
    "    print(nodo)"
   ]
  },
  {
   "cell_type": "code",
   "execution_count": 43,
   "metadata": {},
   "outputs": [
    {
     "name": "stdout",
     "output_type": "stream",
     "text": [
      "<Record tom=<Node id=74 labels=frozenset({'Person'}) properties={'name': 'Tom Hanks', 'born': 1956}> m=<Node id=76 labels=frozenset({'Movie'}) properties={'title': 'Sleepless in Seattle', 'tagline': 'What if someone you never met, someone you never saw, someone you never knew was the only someone for you?', 'released': 1993}> coActors=<Node id=17 labels=frozenset({'Person'}) properties={'name': 'Meg Ryan', 'born': 1961}> m2=<Node id=12 labels=frozenset({'Movie'}) properties={'title': 'Top Gun', 'tagline': 'I feel the need, the need for speed.', 'released': 1986}> cruise=<Node id=38 labels=frozenset({'Person'}) properties={'name': 'Tom Cruise', 'born': 1962}>>\n",
      "<Record tom=<Node id=74 labels=frozenset({'Person'}) properties={'name': 'Tom Hanks', 'born': 1956}> m=<Node id=70 labels=frozenset({'Movie'}) properties={'title': \"You've Got Mail\", 'tagline': 'At odds in life... in love on-line.', 'released': 1998}> coActors=<Node id=17 labels=frozenset({'Person'}) properties={'name': 'Meg Ryan', 'born': 1961}> m2=<Node id=12 labels=frozenset({'Movie'}) properties={'title': 'Top Gun', 'tagline': 'I feel the need, the need for speed.', 'released': 1986}> cruise=<Node id=38 labels=frozenset({'Person'}) properties={'name': 'Tom Cruise', 'born': 1962}>>\n",
      "<Record tom=<Node id=74 labels=frozenset({'Person'}) properties={'name': 'Tom Hanks', 'born': 1956}> m=<Node id=147 labels=frozenset({'Movie'}) properties={'title': 'Apollo 13', 'tagline': 'Houston, we have a problem.', 'released': 1995}> coActors=<Node id=2 labels=frozenset({'Person'}) properties={'name': 'Kevin Bacon', 'born': 1958}> m2=<Node id=37 labels=frozenset({'Movie'}) properties={'title': 'A Few Good Men', 'tagline': \"In the heart of the nation's capital, in a courthouse of the U.S. government, one man will stop at nothing to keep his honor, and one will stop at nothing to find the truth.\", 'released': 1992}> cruise=<Node id=38 labels=frozenset({'Person'}) properties={'name': 'Tom Cruise', 'born': 1962}>>\n",
      "<Record tom=<Node id=74 labels=frozenset({'Person'}) properties={'name': 'Tom Hanks', 'born': 1956}> m=<Node id=133 labels=frozenset({'Movie'}) properties={'title': 'The Green Mile', 'tagline': \"Walk a mile you'll never forget.\", 'released': 1999}> coActors=<Node id=45 labels=frozenset({'Person'}) properties={'name': 'Bonnie Hunt', 'born': 1961}> m2=<Node id=40 labels=frozenset({'Movie'}) properties={'title': 'Jerry Maguire', 'tagline': 'The rest of his life begins now.', 'released': 2000}> cruise=<Node id=38 labels=frozenset({'Person'}) properties={'name': 'Tom Cruise', 'born': 1962}>>\n",
      "<Record tom=<Node id=74 labels=frozenset({'Person'}) properties={'name': 'Tom Hanks', 'born': 1956}> m=<Node id=81 labels=frozenset({'Movie'}) properties={'title': 'Joe Versus the Volcano', 'tagline': 'A story of love, lava and burning desire.', 'released': 1990}> coActors=<Node id=17 labels=frozenset({'Person'}) properties={'name': 'Meg Ryan', 'born': 1961}> m2=<Node id=12 labels=frozenset({'Movie'}) properties={'title': 'Top Gun', 'tagline': 'I feel the need, the need for speed.', 'released': 1986}> cruise=<Node id=38 labels=frozenset({'Person'}) properties={'name': 'Tom Cruise', 'born': 1962}>>\n"
     ]
    }
   ],
   "source": [
    "# Encuentre a alguien que le presente a Tom Cruise - Tom Hanks\n",
    "query = \"MATCH (tom:Person {name:'Tom Hanks'})-[:ACTED_IN]->(m)<-[:ACTED_IN]-(coActors), \"\\\n",
    "        \"(coActors)-[:ACTED_IN]->(m2)<-[:ACTED_IN]-(cruise:Person {name:'Tom Cruise'}) \"\\\n",
    "        \"RETURN tom, m, coActors, m2, cruise\"\n",
    "\n",
    "result = session.run(query)\n",
    "for nodo in result:\n",
    "    print(nodo)\n",
    "    "
   ]
  },
  {
   "cell_type": "markdown",
   "metadata": {},
   "source": [
    "<h3>Paso 7: Eliminar y Obtener los nodos</h3>\n",
    "<p>MATCH (n) DETACH DELETE n</p>\n",
    "<p>MATCH (n) RETURN n</p>"
   ]
  },
  {
   "cell_type": "markdown",
   "metadata": {},
   "source": [
    "# Desafio:  \n",
    "\n",
    "<p>Utiliza el comando <strong>:play northwind-graph</strong> y aprende como migrar de una base de datos RDBMS a grafos.  </p>"
   ]
  },
  {
   "cell_type": "markdown",
   "metadata": {},
   "source": [
    "# Referencias \n",
    "<ul>\n",
    "<li><a href=\"https://neo4j.com\">https://neo4j.com</a></li>\n",
    "<li><a href=\"https://neo4j.com/developer/python/\">https://neo4j.com/developer/python/</a></li>\n",
    "<li><a href=\"https://neo4j.com/docs/driver-manual/current/get-started/\">https://neo4j.com/docs/driver-manual/current/get-started/</a></li>\n",
    "<li><a href=\"https://neo4j.com/developer/neo4j-browser/#_built_in_guides\">https://neo4j.com/developer/neo4j-browser/#_built_in_guides</a></li>\n",
    "</ul>"
   ]
  }
 ],
 "metadata": {
  "kernelspec": {
   "display_name": "Python 3",
   "language": "python",
   "name": "python3"
  },
  "language_info": {
   "codemirror_mode": {
    "name": "ipython",
    "version": 3
   },
   "file_extension": ".py",
   "mimetype": "text/x-python",
   "name": "python",
   "nbconvert_exporter": "python",
   "pygments_lexer": "ipython3",
   "version": "3.7.4"
  }
 },
 "nbformat": 4,
 "nbformat_minor": 2
}
