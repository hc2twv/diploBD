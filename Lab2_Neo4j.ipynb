{
 "cells": [
  {
   "cell_type": "markdown",
   "metadata": {},
   "source": [
    "<img src=\"http://www.espol.edu.ec/sites/default/files/nuevaespol/logo_negro.png\" width=\"301\" height=\"58\" />"
   ]
  },
  {
   "cell_type": "markdown",
   "metadata": {},
   "source": [
    "#     FACULTAD DE INGENIER&Iacute;A EN ELECTRICIDAD Y COMPUTACI&Oacute;N\n",
    "##   DIPLOMADO EN CIENCIA DE DATOS PARA LOS NEGOCIOS\n",
    "###  Laboratorio 2: Neo4j"
   ]
  },
  {
   "cell_type": "markdown",
   "metadata": {},
   "source": [
    "<h3><strong>Introducci&oacute;n</strong></h3>\n",
    "<p class=\"selectionShareable\">Neo4j usa grafos para representar datos y las relaciones entre ellos. Un grafo se define como cualquier representaci&oacute;n gr&aacute;fica formada por v&eacute;rtices (se ilustran mediante c&iacute;rculos) y aristas (se muestran mediante l&iacute;neas de intersecci&oacute;n). Dentro de estas representaciones gr&aacute;ficas, tenemos varios tipos de grafos:</p>\n",
    "<p class=\"selectionShareable\"><strong>- Grafos no dirigidos:</strong> los nodos y las relaciones son intercambiables, su relaci&oacute;n se puede interpretar en cualquier sentido. Las relaciones de amistad en la red social Facebook, por ejemplo, son de este tipo.</p>\n",
    "<p class=\"selectionShareable\"><strong>- Grafos dirigidos</strong>: los nodos y la relaciones no son bidireccionales por defecto. Las relaciones en Twitter son de este tipo. Un usuario puede seguir a determinados perfiles en esta red social sin que ellos le sigan a &eacute;l.</p>\n",
    "<p class=\"selectionShareable\"><strong>- Grafos con peso</strong>: en este tipo de gr&aacute;ficas las relaciones entre nodos tienen alg&uacute;n tipo de valoraci&oacute;n num&eacute;rica. Eso permite luego hacer operaciones.</p>\n",
    "<p class=\"selectionShareable\"><strong>- Grafos con etiquetas</strong>: estos grafos llevan incorporadas etiquetas que pueden definir los distintos v&eacute;rtices y tambi&eacute;n las relaciones entre ellos. En Facebook podr&iacute;amos tener nodos definidos por t&eacute;rminos como &lsquo;amigo&rsquo; o &lsquo;compa&ntilde;ero de trabajo&rsquo; y la relaciones como &lsquo;amigo de&rsquo; o &lsquo;socio de&rsquo;.</p>\n",
    "<p class=\"selectionShareable\"><strong>- Grafos de propiedad</strong>: es un grafo con peso, con etiquetas y donde podemos asignar propiedades tanto a nodos como relaciones (por ejemplo, cuestiones como nombre, edad, pa&iacute;s de residencia, nacimiento). Es el m&aacute;s complejo.</p>\n",
    "<p class=\"selectionShareable\">Neo4j utiliza grafos de propiedad para extraer valor a&ntilde;adido de los datos de cualquier empresa con gran rendimiento y de una forma &aacute;gil, flexible y escalable.</p>"
   ]
  },
  {
   "cell_type": "markdown",
   "metadata": {},
   "source": [
    "<h3>Procedimiento</h3>\n",
    "<br/>\n",
    "Métodos para conexión con Neo4j utilizando Python <a href=https://neo4j.com/developer/python/>https://neo4j.com/developer/python/</a>"
   ]
  },
  {
   "cell_type": "markdown",
   "metadata": {},
   "source": [
    "Movie Graph es una aplicación de mini gráfico que contiene actores y directores relacionados a través de las películas en las que han colaborado.\n",
    "<img src=\"https://dist.neo4j.com/wp-content/uploads/style_person_node.png\" alt=\"style person node\">"
   ]
  },
  {
   "cell_type": "markdown",
   "metadata": {},
   "source": [
    "<h3>Paso 1: Conexión a la Base de Datos Neo4j</h3>"
   ]
  },
  {
   "cell_type": "code",
   "execution_count": 7,
   "metadata": {},
   "outputs": [
    {
     "data": {
      "text/plain": [
       "<neo4j.BoltDriver at 0x10765fd50>"
      ]
     },
     "execution_count": 7,
     "metadata": {},
     "output_type": "execute_result"
    }
   ],
   "source": [
    "#connection to Neo4j\n",
    "from neo4j import GraphDatabase\n",
    "\n",
    "URI = \"bolt://localhost:7687\"\n",
    "USER = \"neo4j\"\n",
    "PASSWD = \"hc2twv\"\n",
    "\n",
    "\n",
    "_driver = GraphDatabase.driver(URI, auth=(USER, PASSWD));\n",
    "_driver"
   ]
  },
  {
   "cell_type": "markdown",
   "metadata": {},
   "source": [
    "<h3>Paso 2: Aprendiendo CYPHER</h3>\n",
    "<p>Antes de jugar con la BD es necesario aprender Cypher. Puede ver información del lenguaje en: <a href=\"https://neo4j.com/developer/cypher-basics-i/\">https://neo4j.com/developer/cypher-basics-i/</a></p> "
   ]
  },
  {
   "cell_type": "markdown",
   "metadata": {},
   "source": [
    "<iframe width=\"829\" height=\"622\" src=\"https://www.youtube.com/embed/l76udM3wB4U\" frameborder=\"0\" allow=\"accelerometer; autoplay; encrypted-media; gyroscope; picture-in-picture\" allowfullscreen></iframe>"
   ]
  },
  {
   "cell_type": "markdown",
   "metadata": {},
   "source": [
    "<h3>Paso 3: Búsqueda de datos en la BD</h3>"
   ]
  },
  {
   "cell_type": "code",
   "execution_count": null,
   "metadata": {},
   "outputs": [],
   "source": [
    "for x in mycol.find().limit(10):\n",
    "    print(x)"
   ]
  },
  {
   "cell_type": "markdown",
   "metadata": {},
   "source": [
    "<h3>Paso 4: Almacenar y actualizar datos en la BD</h3>"
   ]
  },
  {
   "cell_type": "code",
   "execution_count": null,
   "metadata": {},
   "outputs": [],
   "source": [
    "mycol.save(dat)"
   ]
  },
  {
   "cell_type": "markdown",
   "metadata": {},
   "source": [
    "<h3>Paso 5: Eliminar datos de la BD</h3>"
   ]
  },
  {
   "cell_type": "code",
   "execution_count": null,
   "metadata": {},
   "outputs": [],
   "source": [
    "result = mycol.delete_one({'index': '09384758234'})\n",
    "print (\"num removed: \", result.deleted_count)"
   ]
  },
  {
   "cell_type": "markdown",
   "metadata": {},
   "source": [
    "<h3>Paso 6: SORT</h3>"
   ]
  },
  {
   "cell_type": "markdown",
   "metadata": {},
   "source": [
    "<h3>Paso 7: Cláusula Group</h3>\n",
    "<br />\n",
    "<div class=\"t m0 x6 hc y8f ff1 fs4 fc0 sc0 ls0 ws0\">Caracter&iacute;sticas.</div>\n",
    "<ul>\n",
    "<li class=\"t m0 x8 h9 y173 ff6 fs4 fc0 sc0 ls0 ws0\"><span class=\"ff2\">Permite<span class=\"_ _3\"></span> <span class=\"_ _d\"></span>establece<span class=\"_ _3\"></span> <span class=\"_ _3\"></span>grupos<span class=\"_ _d\"></span> <span class=\"_ _3\"></span>de<span class=\"_ _3\"></span> <span class=\"_ _d\"></span>documentos<span class=\"_ _3\"></span> <span class=\"_ _d\"></span>por<span class=\"_ _3\"></span> <span class=\"_ _3\"></span>al<span class=\"_ _3\"></span>guna<span class=\"_ _3\"></span> <span class=\"_ _d\"></span>expresi&oacute;n<span class=\"_ _3\"></span> <span class=\"_ _3\"></span>especificada<span class=\"_ _3\"></span> <span class=\"_ _d\"></span>y<span class=\"_ _3\"></span> <span class=\"_ _d\"></span>salidas<span class=\"_ _3\"></span> <span class=\"_ _d\"></span>a<span class=\"_ _3\"></span> <span class=\"_ _3\"></span>la<span class=\"_ _d\"></span> <span class=\"_ _3\"></span>siguiente&nbsp;</span>etapa de un documento para cada ag<span class=\"_ _0\"></span>rupaci&oacute;n distinta.</li>\n",
    "<li class=\"t m0 x8 hc y11c ff6 fs4 fc0 sc0 ls0 ws0\"><span class=\"ff2\">Los documentos de salida contienen un ca<span class=\"_ _0\"></span>mpo <span class=\"_ _3\"></span><span class=\"ff1\">_id</span> que contiene el grupo diferenciado po<span class=\"_ _0\"></span>r clave. </span></li>\n",
    "<li class=\"t m0 x8 h9 y186 ff6 fs4 fc0 sc0 ls0 ws0\"><span class=\"ff2\">Los docum<span class=\"_ _3\"></span>entos de<span class=\"_ _3\"></span> salida <span class=\"_ _3\"></span>tambi&eacute;n <span class=\"_ _3\"></span>pueden contener <span class=\"_ _3\"></span>campos <span class=\"_ _3\"></span>calculados que<span class=\"_ _3\"></span> contienen <span class=\"_ _3\"></span>los <span class=\"_ _3\"></span>valores de&nbsp;</span>alguna expresi&oacute;n acumulador agrupados po<span class=\"_ _0\"></span>r el campo _id de $group.</li>\n",
    "</ul>"
   ]
  },
  {
   "cell_type": "code",
   "execution_count": null,
   "metadata": {},
   "outputs": [],
   "source": [
    "resultado = mycol.aggregate(\n",
    "              [\n",
    "               {\"$group\":\n",
    "                       {\n",
    "                           \"_id\": \"$SEX\",\n",
    "                           \"count\": { \"$sum\": 1 }\n",
    "                        }\n",
    "                }\n",
    "               ]\n",
    "             )\n",
    "for dato in resultado:\n",
    "    print (dato)"
   ]
  },
  {
   "cell_type": "markdown",
   "metadata": {},
   "source": [
    "# Desafio:  \n",
    "\n",
    "<p>Se ha creado una nueva colecci&oacute;n llamada <strong>nodo_sensor.&nbsp;</strong>Esta colecci&oacute;n recibe informaci&oacute;n de nodos sensores ubicados en una posici&oacute;n [lat, lng] dentro del campus Prosperina de ESPOL. Se pide realizar lo siguiente:</p>\n",
    "<ol>\n",
    "<li>Obtener el n&uacute;mero de datos y la cantidad de nodos que existen ubicados en el campus.</li>\n",
    "<li>Obtener los datos obtenidos por el nodo sensor 3.</li>\n",
    "<li>Obtener la &uacute;ltima velocidad y direcci&oacute;n del viento obtenidos por en el nodo sensor 5.</li>\n",
    "</ol>"
   ]
  },
  {
   "cell_type": "markdown",
   "metadata": {},
   "source": [
    "# Referencias \n",
    "<ul>\n",
    "<li><a href=\"https://neo4j.com\">https://neo4j.com</a></li>\n",
    "<li><a href=\"https://neo4j.com/developer/python/\">https://neo4j.com/developer/python/</a></li>\n",
    "<li><a href=\"https://neo4j.com/docs/driver-manual/current/get-started/\">https://neo4j.com/docs/driver-manual/current/get-started/</a></li>\n",
    "<li><a href=\"https://neo4j.com/developer/neo4j-browser/#_built_in_guides\">https://neo4j.com/developer/neo4j-browser/#_built_in_guides</a></li>\n",
    "</ul>"
   ]
  },
  {
   "cell_type": "code",
   "execution_count": null,
   "metadata": {},
   "outputs": [],
   "source": []
  }
 ],
 "metadata": {
  "kernelspec": {
   "display_name": "Python 3",
   "language": "python",
   "name": "python3"
  },
  "language_info": {
   "codemirror_mode": {
    "name": "ipython",
    "version": 3
   },
   "file_extension": ".py",
   "mimetype": "text/x-python",
   "name": "python",
   "nbconvert_exporter": "python",
   "pygments_lexer": "ipython3",
   "version": "3.7.4"
  }
 },
 "nbformat": 4,
 "nbformat_minor": 2
}
