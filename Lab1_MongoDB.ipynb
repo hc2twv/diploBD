{
 "cells": [
  {
   "cell_type": "markdown",
   "metadata": {},
   "source": [
    "<img src=\"http://www.espol.edu.ec/sites/default/files/nuevaespol/logo_negro.png\" width=\"301\" height=\"58\" />\n",
    "<div style=\"text-align:center\"><p align=\"center\"><strong>FACULTAD DE INGENIER&Iacute;A EN ELECTRICIDAD Y COMPUTACI&Oacute;N</strong></p>\n",
    "<p align=\"center\"><strong>DIPLOMADO EN CIENCIA DE DATOS PARA LOS NEGOCIOS</strong></p>\n",
    "<p align=\"center\"><strong>Laboratorio 1: MongoDB</strong></p></div>"
   ]
  },
  {
   "cell_type": "markdown",
   "metadata": {},
   "source": [
    "<h3><strong>Introducci&oacute;n</strong></h3>\n",
    "<p><strong>Mongo DB</strong></p>\n",
    "<ul>\n",
    "<li>Es un motor de bases de datos NoSQL de c&oacute;digo abierto, escrito en C++.</li>\n",
    "<li>Se encuentra orientado al almacenamiento de documentos.</li>\n",
    "<li>Es posible utilizarlo en Windows as&iacute; como en algunos sistemas UNIX</li>\n",
    "</ul>\n",
    "<p>A diferencia de otras BD no relacionales, MongoDB se centra en trabajar con documentos y colecciones, losdocumentos se trabajan en formato JSON y se almacenan en forma binaria.</p>\n",
    "<p><strong>Caracteristicas:</strong></p>\n",
    "<ul>\n",
    "<li>Se almacenan documentos en colecciones. Haciendo analog&iacute;a con BD de datos relacionales, el documento ser&iacute;a una tupla y la colecci&oacute;n ser&iacute;a una tabla.</li>\n",
    "<li>F&aacute;cil cambio de schema en producci&oacute;n.</li>\n",
    "<li>F&aacute;cil escalabilidad de forma horizontal.</li>\n",
    "<li>Replicaci&oacute;n de datos Indexaci&oacute;n.</li>\n",
    "<li>Almacenamiento de archivos. Como im&aacute;genes, v&iacute;deos, etc.</li>\n",
    "<li>Es posible ejecutar JS(JavaScript) en el servidor.</li>\n",
    "</ul>"
   ]
  },
  {
   "cell_type": "markdown",
   "metadata": {},
   "source": [
    "<h3>Procedimiento</h3>"
   ]
  },
  {
   "cell_type": "markdown",
   "metadata": {},
   "source": [
    "<p>MongoDB permite trabajar con varios tipos de documentos, para el curso se trabajar&aacute; con documentos que vienen a ser objetos de JS. Despu&eacute;s de tener el cliente conectado al servidor creamos nuestro primer documento:</p><br />\n",
    "<center><strong><em>documento = {nombre: &ldquo;Eduardo&rdquo;}</em></strong></center>\n",
    "<p>Cada documento va a estar entre llaves, dentro del cual estar&aacute; el atributo<em> (en este caso nombre)</em>, seguido de dos puntos <strong>(:)</strong> y su valor <em>(Eduardo)</em> entre comillas. Los documentos pueden tener atributos con distintos tipos de datos, cada atributo de un documento se separacon comas <strong>(,)</strong>:</p>"
   ]
  },
  {
   "cell_type": "markdown",
   "metadata": {},
   "source": [
    "<center>\n",
    "<div class=\"t m0 x9 ha y2c ff7 fs4 fc0 sc0 ls0 ws0\"><strong>documento</strong> = <em>{ String : &ldquo;Eduardo&rdquo;,&nbsp;</em><em>numero : 22,&nbsp;</em><em>real : 22.5,&nbsp;</em><em>flotante : true,&nbsp;</em><em>fecha: new Date()&nbsp;</em><em>}</em></div>\n",
    "</center>"
   ]
  },
  {
   "cell_type": "markdown",
   "metadata": {},
   "source": [
    "<h3>Paso 1: Conexión a la Base de Datos Mongo</h3>"
   ]
  },
  {
   "cell_type": "code",
   "execution_count": 2,
   "metadata": {},
   "outputs": [
    {
     "data": {
      "text/plain": [
       "Collection(Database(MongoClient(host=['192.168.100.5:27017'], document_class=dict, tz_aware=False, connect=True), 'data'), 'people')"
      ]
     },
     "execution_count": 2,
     "metadata": {},
     "output_type": "execute_result"
    }
   ],
   "source": [
    "#connection to Mongo\n",
    "from pymongo import MongoClient\n",
    "\n",
    "IP_SERVER = \"192.168.100.5\"\n",
    "PORT_SERVER = \"27017\"\n",
    "\n",
    "myclient = MongoClient(\"mongodb://\"+IP_SERVER+\":\"+PORT_SERVER)  #\"mongodb+srv://<username>:<password>@<cluster-url>/test?retryWrites=true&w=majority\")\n",
    "mydb = myclient[\"data\"]\n",
    "mycol = mydb[\"people\"]\n",
    "mycol"
   ]
  },
  {
   "cell_type": "markdown",
   "metadata": {},
   "source": [
    "<p>La estructura del documento en la colecci&oacute;n people es:</p><br />\n",
    "<center>\n",
    "<div class=\"t m0 x9 ha y2c ff7 fs4 fc0 sc0 ls0 ws0\"><strong>documento</strong> = <em>{\"index\": index, \"HHX\":row['HHX'], \"FMX\": row['FMX'],\"FPX\": row['FPX'], \"SEX\": row['SEX'], \"BMI\": row['BMI'], \"SLEEP\": row['SLEEP'], \"educ\": row['educ'], \"height\": row['height'], \"weight\": row['weight']}</em></div>\n",
    "</center>"
   ]
  },
  {
   "cell_type": "markdown",
   "metadata": {},
   "source": [
    "<h3>Paso 2: Insertar datos en la BD</h3>\n",
    "<p>Colocar sus datos en los casilleros restantes:</p>\n",
    "<ul>\n",
    "<li>index: Numero de C&eacute;dula</li>\n",
    "<li>Sex: (1:HOMBRE, 0:MUJER)</li>\n",
    "<li>BMI: Indice de masa corporal (Si no lo conoce llenar cualquier n&uacute;mero)</li>\n",
    "<li>SLEEP: Promedio de horas que duerme</li>\n",
    "<li>educ: Grado de educaci&oacute;n (Lic., lng., etc.)</li>\n",
    "<li>height: altura</li>\n",
    "<li>weight: peso&nbsp;</li>\n",
    "</ul>"
   ]
  },
  {
   "cell_type": "code",
   "execution_count": 22,
   "metadata": {},
   "outputs": [
    {
     "data": {
      "text/plain": [
       "<pymongo.results.InsertOneResult at 0x10d02beb0>"
      ]
     },
     "execution_count": 22,
     "metadata": {},
     "output_type": "execute_result"
    }
   ],
   "source": [
    "dataTo_Mongo = {\"index\": \"09384758234\" , \"HHX\":20, \"FMX\": 30,\"FPX\": 43, \"SEX\": 1, \"BMI\": 60, \"SLEEP\": 8, \"educ\": \"Dr.\", \"height\": 60, \"weight\": 60}\n",
    "mycol.insert_one(dataTo_Mongo)"
   ]
  },
  {
   "cell_type": "code",
   "execution_count": 107,
   "metadata": {},
   "outputs": [
    {
     "data": {
      "text/plain": [
       "<pymongo.results.InsertManyResult at 0x10cdb7c80>"
      ]
     },
     "execution_count": 107,
     "metadata": {},
     "output_type": "execute_result"
    }
   ],
   "source": [
    "dataTo_Mongo1 = {\"index\": \"093847582342\" , \"HHX\":20, \"FMX\": 30,\"FPX\": 43, \"SEX\": 1, \"BMI\": 60, \"SLEEP\": 8, \"educ\": \"Dr.\", \"height\": 60, \"weight\": 60}\n",
    "dataTo_Mongo2 =  {\"index\": \"093847582342\" , \"HHX\":20, \"FMX\": 30,\"FPX\": 43, \"SEX\": 1, \"BMI\": 60, \"SLEEP\":8, \"educ\": \"Dr.\", \"height\": 60, \"weight\": 60}\n",
    "mycol.insert_many([dataTo_Mongo1,dataTo_Mongo2])"
   ]
  },
  {
   "cell_type": "markdown",
   "metadata": {},
   "source": [
    "<h3>Paso 3: Búsqueda de datos en la BD</h3>"
   ]
  },
  {
   "cell_type": "code",
   "execution_count": 199,
   "metadata": {},
   "outputs": [
    {
     "name": "stdout",
     "output_type": "stream",
     "text": [
      "{'_id': ObjectId('5f14e79d11cf7b08ec2a9364'), 'index': 0, 'HHX': 16.0, 'FMX': 1.0, 'FPX': 2.0, 'SEX': 1.0, 'BMI': 33.36, 'SLEEP': 8.0, 'educ': 16.0, 'height': 74.0, 'weight': 260.0}\n",
      "{'_id': ObjectId('5f14e79d11cf7b08ec2a9365'), 'index': 1, 'HHX': 20.0, 'FMX': 1.0, 'FPX': 1.0, 'SEX': 1.0, 'BMI': 26.54, 'SLEEP': 7.0, 'educ': 14.0, 'height': 70.0, 'weight': 185.0}\n",
      "{'_id': ObjectId('5f14e79d11cf7b08ec2a9366'), 'index': 2, 'HHX': 69.0, 'FMX': 1.0, 'FPX': 2.0, 'SEX': 2.0, 'BMI': 32.13, 'SLEEP': 7.0, 'educ': 9.0, 'height': 61.0, 'weight': 170.0}\n",
      "{'_id': ObjectId('5f14e79d11cf7b08ec2a9367'), 'index': 3, 'HHX': 87.0, 'FMX': 1.0, 'FPX': 1.0, 'SEX': 1.0, 'BMI': 26.62, 'SLEEP': 8.0, 'educ': 14.0, 'height': 68.0, 'weight': 175.0}\n",
      "{'_id': ObjectId('5f14e79d11cf7b08ec2a9368'), 'index': 4, 'HHX': 88.0, 'FMX': 1.0, 'FPX': 1.0, 'SEX': 2.0, 'BMI': 27.13, 'SLEEP': 8.0, 'educ': 13.0, 'height': 66.0, 'weight': 168.0}\n",
      "{'_id': ObjectId('5f14e79d11cf7b08ec2a9369'), 'index': 5, 'HHX': 122.0, 'FMX': 1.0, 'FPX': 1.0, 'SEX': 1.0, 'BMI': 24.39, 'SLEEP': 7.0, 'educ': 12.0, 'height': 70.0, 'weight': 170.0}\n",
      "{'_id': ObjectId('5f14e79d11cf7b08ec2a936a'), 'index': 6, 'HHX': 129.0, 'FMX': 1.0, 'FPX': 2.0, 'SEX': 2.0, 'BMI': 24.47, 'SLEEP': 7.0, 'educ': 16.0, 'height': 65.0, 'weight': 147.0}\n",
      "{'_id': ObjectId('5f14e79d11cf7b08ec2a936b'), 'index': 7, 'HHX': 134.0, 'FMX': 1.0, 'FPX': 2.0, 'SEX': 2.0, 'BMI': 25.38, 'SLEEP': 7.0, 'educ': 18.0, 'height': 64.0, 'weight': 148.0}\n",
      "{'_id': ObjectId('5f14e79d11cf7b08ec2a936c'), 'index': 8, 'HHX': 162.0, 'FMX': 1.0, 'FPX': 2.0, 'SEX': 1.0, 'BMI': 23.3, 'SLEEP': 9.0, 'educ': 9.0, 'height': 65.0, 'weight': 140.0}\n",
      "{'_id': ObjectId('5f14e79d11cf7b08ec2a936d'), 'index': 9, 'HHX': 186.0, 'FMX': 1.0, 'FPX': 1.0, 'SEX': 1.0, 'BMI': 27.45, 'SLEEP': 7.0, 'educ': 6.0, 'height': 66.0, 'weight': 170.0}\n"
     ]
    }
   ],
   "source": [
    "for x in mycol.find().limit(10):\n",
    "    print(x)"
   ]
  },
  {
   "cell_type": "code",
   "execution_count": 200,
   "metadata": {},
   "outputs": [
    {
     "name": "stdout",
     "output_type": "stream",
     "text": [
      "{'_id': ObjectId('5f14f0bf3c2c33fb8837ed0d'), 'index': '09384758234', 'HHX': 20, 'FMX': 30, 'FPX': 43, 'SEX': '1', 'BMI': '60', 'SLEEP': '8', 'educ': 'MSc.', 'height': '60', 'weight': 20}\n"
     ]
    }
   ],
   "source": [
    "for x in mycol.find({\"index\": \"09384758234\"}).limit(10):\n",
    "    print(x)"
   ]
  },
  {
   "cell_type": "code",
   "execution_count": 33,
   "metadata": {},
   "outputs": [
    {
     "name": "stdout",
     "output_type": "stream",
     "text": [
      "{'_id': ObjectId('5f14ec703c2c33fb8837ed06'), 'index': '09384758234', 'HHX': 20, 'FMX': 30, 'FPX': 43, 'SEX': 'M', 'BMI': '60', 'SLEEP': '8', 'educ': 'Dr.', 'height': '60', 'weight': '60'}\n",
      "{'_id': ObjectId('5f14ef6f3c2c33fb8837ed07'), 'index': '093847582343', 'HHX': 20, 'FMX': 30, 'FPX': 43, 'SEX': 'M', 'BMI': '60', 'SLEEP': '8', 'educ': 'Dr.', 'height': '60', 'weight': '60'}\n",
      "{'_id': ObjectId('5f14ef6f3c2c33fb8837ed08'), 'index': '093847582343', 'HHX': 20, 'FMX': 30, 'FPX': 43, 'SEX': 'M', 'BMI': '60', 'SLEEP': '8', 'educ': 'Dr.', 'height': '60', 'weight': '60'}\n",
      "{'_id': ObjectId('5f14ef833c2c33fb8837ed09'), 'index': '093847582343', 'HHX': 20, 'FMX': 30, 'FPX': 43, 'SEX': 'M', 'BMI': '60', 'SLEEP': '8', 'educ': 'Dr.', 'height': '60', 'weight': '60'}\n",
      "{'_id': ObjectId('5f14ef833c2c33fb8837ed0a'), 'index': '093847582343', 'HHX': 20, 'FMX': 30, 'FPX': 43, 'SEX': 'M', 'BMI': '60', 'SLEEP': '8', 'educ': 'Dr.', 'height': '60', 'weight': '60'}\n",
      "{'_id': ObjectId('5f14efdc3c2c33fb8837ed0b'), 'index': '093847582342', 'HHX': 20, 'FMX': 30, 'FPX': 43, 'SEX': 'M', 'BMI': '60', 'SLEEP': '8', 'educ': 'Dr.', 'height': '60', 'weight': '60'}\n",
      "{'_id': ObjectId('5f14efdc3c2c33fb8837ed0c'), 'index': '093847582342', 'HHX': 20, 'FMX': 30, 'FPX': 43, 'SEX': 'M', 'BMI': '60', 'SLEEP': '8', 'educ': 'Dr.', 'height': '60', 'weight': '60'}\n",
      "{'_id': ObjectId('5f14f0bf3c2c33fb8837ed0d'), 'index': '09384758234', 'HHX': 20, 'FMX': 30, 'FPX': 43, 'SEX': '1', 'BMI': '60', 'SLEEP': '8', 'educ': 'Dr.', 'height': '60', 'weight': '60'}\n",
      "{'_id': ObjectId('5f14f0c13c2c33fb8837ed0e'), 'index': '093847582342', 'HHX': 20, 'FMX': 30, 'FPX': 43, 'SEX': '1', 'BMI': '60', 'SLEEP': '8', 'educ': 'Dr.', 'height': '60', 'weight': '60'}\n",
      "{'_id': ObjectId('5f14f0c13c2c33fb8837ed0f'), 'index': '093847582342', 'HHX': 20, 'FMX': 30, 'FPX': 43, 'SEX': '1', 'BMI': '60', 'SLEEP': '8', 'educ': 'Dr.', 'height': '60', 'weight': '60'}\n",
      "{'_id': ObjectId('5f14f1333c2c33fb8837ed10'), 'index': '093847582342', 'HHX': 20, 'FMX': 30, 'FPX': 43, 'SEX': 1, 'BMI': 60, 'SLEEP': 8, 'educ': 'Dr.', 'height': 60, 'weight': 60}\n",
      "{'_id': ObjectId('5f14f1333c2c33fb8837ed11'), 'index': '093847582342', 'HHX': 20, 'FMX': 30, 'FPX': 43, 'SEX': 1, 'BMI': 60, 'SLEEP': 8, 'educ': 'Dr.', 'height': 60, 'weight': 60}\n"
     ]
    }
   ],
   "source": [
    "for x in mycol.find({\"educ\": \"Dr.\"}):\n",
    "    print(x)"
   ]
  },
  {
   "cell_type": "code",
   "execution_count": 201,
   "metadata": {},
   "outputs": [
    {
     "name": "stdout",
     "output_type": "stream",
     "text": [
      "{'_id': ObjectId('5f14e79d11cf7b08ec2a9364'), 'index': 0, 'HHX': 16.0, 'FMX': 1.0, 'FPX': 2.0, 'SEX': 1.0, 'BMI': 33.36, 'SLEEP': 8.0, 'educ': 16.0, 'height': 74.0, 'weight': 260.0}\n",
      "{'_id': ObjectId('5f14e79d11cf7b08ec2a9365'), 'index': 1, 'HHX': 20.0, 'FMX': 1.0, 'FPX': 1.0, 'SEX': 1.0, 'BMI': 26.54, 'SLEEP': 7.0, 'educ': 14.0, 'height': 70.0, 'weight': 185.0}\n",
      "{'_id': ObjectId('5f14e79d11cf7b08ec2a9367'), 'index': 3, 'HHX': 87.0, 'FMX': 1.0, 'FPX': 1.0, 'SEX': 1.0, 'BMI': 26.62, 'SLEEP': 8.0, 'educ': 14.0, 'height': 68.0, 'weight': 175.0}\n",
      "{'_id': ObjectId('5f14e79d11cf7b08ec2a9369'), 'index': 5, 'HHX': 122.0, 'FMX': 1.0, 'FPX': 1.0, 'SEX': 1.0, 'BMI': 24.39, 'SLEEP': 7.0, 'educ': 12.0, 'height': 70.0, 'weight': 170.0}\n",
      "{'_id': ObjectId('5f14e79d11cf7b08ec2a936c'), 'index': 8, 'HHX': 162.0, 'FMX': 1.0, 'FPX': 2.0, 'SEX': 1.0, 'BMI': 23.3, 'SLEEP': 9.0, 'educ': 9.0, 'height': 65.0, 'weight': 140.0}\n",
      "{'_id': ObjectId('5f14e79d11cf7b08ec2a936d'), 'index': 9, 'HHX': 186.0, 'FMX': 1.0, 'FPX': 1.0, 'SEX': 1.0, 'BMI': 27.45, 'SLEEP': 7.0, 'educ': 6.0, 'height': 66.0, 'weight': 170.0}\n",
      "{'_id': ObjectId('5f14e79d11cf7b08ec2a9370'), 'index': 12, 'HHX': 202.0, 'FMX': 1.0, 'FPX': 1.0, 'SEX': 1.0, 'BMI': 23.3, 'SLEEP': 5.0, 'educ': 13.0, 'height': 65.0, 'weight': 140.0}\n",
      "{'_id': ObjectId('5f14e79d11cf7b08ec2a9375'), 'index': 17, 'HHX': 234.0, 'FMX': 1.0, 'FPX': 2.0, 'SEX': 1.0, 'BMI': 25.82, 'SLEEP': 7.0, 'educ': 13.0, 'height': 67.0, 'weight': 165.0}\n",
      "{'_id': ObjectId('5f14e79d11cf7b08ec2a9376'), 'index': 18, 'HHX': 237.0, 'FMX': 1.0, 'FPX': 2.0, 'SEX': 1.0, 'BMI': 39.31, 'SLEEP': 8.0, 'educ': 14.0, 'height': 72.0, 'weight': 290.0}\n",
      "{'_id': ObjectId('5f14e79d11cf7b08ec2a937a'), 'index': 22, 'HHX': 299.0, 'FMX': 1.0, 'FPX': 1.0, 'SEX': 1.0, 'BMI': 22.93, 'SLEEP': 6.0, 'educ': 16.0, 'height': 66.0, 'weight': 142.0}\n"
     ]
    }
   ],
   "source": [
    "for x in mycol.find({\"SEX\": 1}).limit(10):\n",
    "    print(x)"
   ]
  },
  {
   "cell_type": "code",
   "execution_count": 35,
   "metadata": {},
   "outputs": [
    {
     "name": "stdout",
     "output_type": "stream",
     "text": [
      "{'_id': ObjectId('5f14f1333c2c33fb8837ed10'), 'index': '093847582342', 'HHX': 20, 'FMX': 30, 'FPX': 43, 'SEX': 1, 'BMI': 60, 'SLEEP': 8, 'educ': 'Dr.', 'height': 60, 'weight': 60}\n",
      "{'_id': ObjectId('5f14f1333c2c33fb8837ed11'), 'index': '093847582342', 'HHX': 20, 'FMX': 30, 'FPX': 43, 'SEX': 1, 'BMI': 60, 'SLEEP': 8, 'educ': 'Dr.', 'height': 60, 'weight': 60}\n"
     ]
    }
   ],
   "source": [
    "for x in mycol.find({\"SEX\": 1, \"educ\":\"Dr.\"}):\n",
    "    print(x)"
   ]
  },
  {
   "cell_type": "code",
   "execution_count": 45,
   "metadata": {},
   "outputs": [
    {
     "data": {
      "text/plain": [
       "{'_id': ObjectId('5f14f1333c2c33fb8837ed10'),\n",
       " 'index': '093847582342',\n",
       " 'HHX': 20,\n",
       " 'FMX': 30,\n",
       " 'FPX': 43,\n",
       " 'SEX': 1,\n",
       " 'BMI': 60,\n",
       " 'SLEEP': 8,\n",
       " 'educ': 'Dr.',\n",
       " 'height': 60,\n",
       " 'weight': 60}"
      ]
     },
     "execution_count": 45,
     "metadata": {},
     "output_type": "execute_result"
    }
   ],
   "source": [
    "mycol.find_one({\"SEX\": 1.0,\"educ\":\"Dr.\"})\n"
   ]
  },
  {
   "cell_type": "code",
   "execution_count": 47,
   "metadata": {},
   "outputs": [
    {
     "data": {
      "text/plain": [
       "20"
      ]
     },
     "execution_count": 47,
     "metadata": {},
     "output_type": "execute_result"
    }
   ],
   "source": [
    "dat = mycol.find_one({\"SEX\": 1.0,\"educ\":\"Dr.\"})\n",
    "\n",
    "dat['HHX']"
   ]
  },
  {
   "cell_type": "code",
   "execution_count": 48,
   "metadata": {},
   "outputs": [
    {
     "data": {
      "text/plain": [
       "{'_id': ObjectId('5f14f1333c2c33fb8837ed10'),\n",
       " 'index': '093847582342',\n",
       " 'HHX': 30,\n",
       " 'FMX': 30,\n",
       " 'FPX': 43,\n",
       " 'SEX': 1,\n",
       " 'BMI': 60,\n",
       " 'SLEEP': 8,\n",
       " 'educ': 'Dr.',\n",
       " 'height': 60,\n",
       " 'weight': 60}"
      ]
     },
     "execution_count": 48,
     "metadata": {},
     "output_type": "execute_result"
    }
   ],
   "source": [
    "dat['HHX'] = 30\n",
    "dat"
   ]
  },
  {
   "cell_type": "markdown",
   "metadata": {},
   "source": [
    "<h3>Paso 4: Almacenar y actualizar datos en la BD</h3>"
   ]
  },
  {
   "cell_type": "code",
   "execution_count": 52,
   "metadata": {},
   "outputs": [
    {
     "name": "stderr",
     "output_type": "stream",
     "text": [
      "/Users/washington/opt/anaconda3/lib/python3.7/site-packages/ipykernel_launcher.py:1: DeprecationWarning: save is deprecated. Use insert_one or replace_one instead\n",
      "  \"\"\"Entry point for launching an IPython kernel.\n"
     ]
    },
    {
     "data": {
      "text/plain": [
       "ObjectId('5f14f1333c2c33fb8837ed10')"
      ]
     },
     "execution_count": 52,
     "metadata": {},
     "output_type": "execute_result"
    }
   ],
   "source": [
    "mycol.save(dat)"
   ]
  },
  {
   "cell_type": "code",
   "execution_count": 113,
   "metadata": {},
   "outputs": [
    {
     "data": {
      "text/plain": [
       "{'_id': ObjectId('5f14f1333c2c33fb8837ed11'),\n",
       " 'index': '093847582342',\n",
       " 'HHX': 20,\n",
       " 'FMX': 30,\n",
       " 'FPX': 43,\n",
       " 'SEX': 1,\n",
       " 'BMI': 60,\n",
       " 'SLEEP': 8,\n",
       " 'educ': 'Dr.',\n",
       " 'height': 60,\n",
       " 'weight': 60}"
      ]
     },
     "execution_count": 113,
     "metadata": {},
     "output_type": "execute_result"
    }
   ],
   "source": [
    "#Find One\n",
    "dat = mycol.find_one({\"SEX\": 1.0,\"educ\":\"Dr.\"})\n",
    "\n",
    "dat"
   ]
  },
  {
   "cell_type": "code",
   "execution_count": 114,
   "metadata": {},
   "outputs": [
    {
     "data": {
      "text/plain": [
       "{'_id': ObjectId('5f14f1333c2c33fb8837ed11'),\n",
       " 'index': '093847582342',\n",
       " 'HHX': 300,\n",
       " 'FMX': 30,\n",
       " 'FPX': 43,\n",
       " 'SEX': 1,\n",
       " 'BMI': 60,\n",
       " 'SLEEP': 8,\n",
       " 'educ': 'Dr.',\n",
       " 'height': 60,\n",
       " 'weight': 60}"
      ]
     },
     "execution_count": 114,
     "metadata": {},
     "output_type": "execute_result"
    }
   ],
   "source": [
    "dat['HHX'] = 300\n",
    "dat"
   ]
  },
  {
   "cell_type": "code",
   "execution_count": 115,
   "metadata": {},
   "outputs": [
    {
     "data": {
      "text/plain": [
       "{'_id': ObjectId('5f14f1333c2c33fb8837ed11'),\n",
       " 'index': '093847582342',\n",
       " 'HHX': 300,\n",
       " 'FMX': 30,\n",
       " 'FPX': 43,\n",
       " 'SEX': 1,\n",
       " 'BMI': 60,\n",
       " 'SLEEP': 8,\n",
       " 'educ': 'Dr.',\n",
       " 'height': 60,\n",
       " 'weight': 60}"
      ]
     },
     "execution_count": 115,
     "metadata": {},
     "output_type": "execute_result"
    }
   ],
   "source": [
    "mycol.replace_one({\"_id\":dat[\"_id\"]},dat)\n",
    "dat_n = mycol.find_one({\"index\": \"093847582342\"})\n",
    "dat_n"
   ]
  },
  {
   "cell_type": "code",
   "execution_count": 116,
   "metadata": {
    "scrolled": true
   },
   "outputs": [
    {
     "name": "stdout",
     "output_type": "stream",
     "text": [
      "{'_id': ObjectId('5f14f1333c2c33fb8837ed11'), 'index': '093847582342', 'HHX': 300, 'FMX': 30, 'FPX': 43, 'SEX': 1, 'BMI': 60, 'SLEEP': 8, 'educ': 'Dr.', 'height': 60, 'weight': 60}\n",
      "{'_id': ObjectId('5f15064a3c2c33fb8837ed14'), 'index': '093847582342', 'HHX': 20, 'FMX': 30, 'FPX': 43, 'SEX': 1, 'BMI': 60, 'SLEEP': 8, 'educ': 'Dr.', 'height': 60, 'weight': 60}\n",
      "{'_id': ObjectId('5f15064a3c2c33fb8837ed15'), 'index': '093847582342', 'HHX': 20, 'FMX': 30, 'FPX': 43, 'SEX': 1, 'BMI': 60, 'SLEEP': 8, 'educ': 'Dr.', 'height': 60, 'weight': 60}\n"
     ]
    }
   ],
   "source": [
    "for x in mycol.find({\"index\": \"093847582342\"}):\n",
    "    print(x)"
   ]
  },
  {
   "cell_type": "code",
   "execution_count": 122,
   "metadata": {},
   "outputs": [
    {
     "data": {
      "text/plain": [
       "{'_id': ObjectId('5f14f1333c2c33fb8837ed11'),\n",
       " 'index': '093847582342',\n",
       " 'HHX': 300,\n",
       " 'FMX': 30,\n",
       " 'FPX': 43,\n",
       " 'SEX': 1,\n",
       " 'BMI': 60,\n",
       " 'SLEEP': 8,\n",
       " 'educ': 'Dr.',\n",
       " 'height': 60,\n",
       " 'weight': 20}"
      ]
     },
     "execution_count": 122,
     "metadata": {},
     "output_type": "execute_result"
    }
   ],
   "source": [
    "#Update One (field)\n",
    "mycol.update_one({\"_id\":dat_n['_id']},{'$set':{'weight':20}})\n",
    "dat_x = mycol.find_one({\"_id\":dat_n['_id']})\n",
    "dat_x"
   ]
  },
  {
   "cell_type": "code",
   "execution_count": 124,
   "metadata": {},
   "outputs": [
    {
     "data": {
      "text/plain": [
       "{'_id': ObjectId('5f14f1333c2c33fb8837ed11'),\n",
       " 'index': '093847582342',\n",
       " 'HHX': 300,\n",
       " 'FMX': 30,\n",
       " 'FPX': 43,\n",
       " 'SEX': 1,\n",
       " 'BMI': 60,\n",
       " 'SLEEP': 8,\n",
       " 'educ': 'Dr.',\n",
       " 'height': 10,\n",
       " 'weight': 20}"
      ]
     },
     "execution_count": 124,
     "metadata": {},
     "output_type": "execute_result"
    }
   ],
   "source": [
    "#Update One (many field)\n",
    "mycol.update_one({\"_id\":dat_n['_id']},{'$set':{'height':10,'weight':20}})\n",
    "dat_x = mycol.find_one({\"_id\":dat_n['_id']})\n",
    "dat_x"
   ]
  },
  {
   "cell_type": "code",
   "execution_count": 125,
   "metadata": {
    "scrolled": true
   },
   "outputs": [
    {
     "name": "stdout",
     "output_type": "stream",
     "text": [
      "{'_id': ObjectId('5f14ec703c2c33fb8837ed06'), 'index': '09384758234', 'HHX': 20, 'FMX': 30, 'FPX': 43, 'SEX': 'M', 'BMI': '60', 'SLEEP': '8', 'educ': 'MSc.', 'height': '60', 'weight': 20}\n",
      "{'_id': ObjectId('5f14ef6f3c2c33fb8837ed07'), 'index': '093847582343', 'HHX': 20, 'FMX': 30, 'FPX': 43, 'SEX': 'M', 'BMI': '60', 'SLEEP': '8', 'educ': 'MSc.', 'height': '60', 'weight': 20}\n",
      "{'_id': ObjectId('5f14ef6f3c2c33fb8837ed08'), 'index': '093847582343', 'HHX': 20, 'FMX': 30, 'FPX': 43, 'SEX': 'M', 'BMI': '60', 'SLEEP': '8', 'educ': 'MSc.', 'height': '60', 'weight': 20}\n",
      "{'_id': ObjectId('5f14ef833c2c33fb8837ed09'), 'index': '093847582343', 'HHX': 20, 'FMX': 30, 'FPX': 43, 'SEX': 'M', 'BMI': '60', 'SLEEP': '8', 'educ': 'MSc.', 'height': '60', 'weight': 20}\n",
      "{'_id': ObjectId('5f14ef833c2c33fb8837ed0a'), 'index': '093847582343', 'HHX': 20, 'FMX': 30, 'FPX': 43, 'SEX': 'M', 'BMI': '60', 'SLEEP': '8', 'educ': 'MSc.', 'height': '60', 'weight': 20}\n",
      "{'_id': ObjectId('5f14f0bf3c2c33fb8837ed0d'), 'index': '09384758234', 'HHX': 20, 'FMX': 30, 'FPX': 43, 'SEX': '1', 'BMI': '60', 'SLEEP': '8', 'educ': 'MSc.', 'height': '60', 'weight': 20}\n",
      "{'_id': ObjectId('5f14f1333c2c33fb8837ed11'), 'index': '093847582342', 'HHX': 300, 'FMX': 30, 'FPX': 43, 'SEX': 1, 'BMI': 60, 'SLEEP': 8, 'educ': 'MSc.', 'height': 10, 'weight': 20}\n",
      "{'_id': ObjectId('5f15064a3c2c33fb8837ed14'), 'index': '093847582342', 'HHX': 20, 'FMX': 30, 'FPX': 43, 'SEX': 1, 'BMI': 60, 'SLEEP': 8, 'educ': 'MSc.', 'height': 60, 'weight': 20}\n",
      "{'_id': ObjectId('5f15064a3c2c33fb8837ed15'), 'index': '093847582342', 'HHX': 20, 'FMX': 30, 'FPX': 43, 'SEX': 1, 'BMI': 60, 'SLEEP': 8, 'educ': 'MSc.', 'height': 60, 'weight': 20}\n"
     ]
    }
   ],
   "source": [
    "#Update Many (field)\n",
    "mycol.update_many({'educ':'Dr.'},{'$set':{'educ':'MSc.','weight':20}})\n",
    "for x in mycol.find({'educ':'MSc.'}):\n",
    "    print(x)"
   ]
  },
  {
   "cell_type": "markdown",
   "metadata": {},
   "source": [
    "<h3>Paso 5: Eliminar datos de la BD</h3>"
   ]
  },
  {
   "cell_type": "code",
   "execution_count": 127,
   "metadata": {},
   "outputs": [
    {
     "name": "stdout",
     "output_type": "stream",
     "text": [
      "num removed:  1\n"
     ]
    }
   ],
   "source": [
    "result = mycol.delete_one({'index': '09384758234'})\n",
    "print (\"num removed: \", result.deleted_count)"
   ]
  },
  {
   "cell_type": "code",
   "execution_count": 128,
   "metadata": {},
   "outputs": [
    {
     "name": "stdout",
     "output_type": "stream",
     "text": [
      "num removed:  3\n"
     ]
    }
   ],
   "source": [
    "result = mycol.delete_many({'index': '093847582342'})\n",
    "print (\"num removed: \", result.deleted_count)"
   ]
  },
  {
   "cell_type": "markdown",
   "metadata": {},
   "source": [
    "<h3>Paso 6: SORT</h3>"
   ]
  },
  {
   "cell_type": "code",
   "execution_count": 202,
   "metadata": {},
   "outputs": [
    {
     "name": "stdout",
     "output_type": "stream",
     "text": [
      "{'_id': ObjectId('5f14efdc3c2c33fb8837ed0b'), 'SLEEP': 10}\n",
      "{'_id': ObjectId('5f14efdc3c2c33fb8837ed0c'), 'SLEEP': 10}\n",
      "{'_id': ObjectId('5f14f0c13c2c33fb8837ed0e'), 'FMX': 40}\n",
      "{'_id': ObjectId('5f14f0c13c2c33fb8837ed0f'), 'FMX': 60}\n",
      "{'_id': ObjectId('5f14f1333c2c33fb8837ed10'), 'FMX': 60, 'HHX': 20}\n",
      "{'_id': ObjectId('5f1503853c2c33fb8837ed12'), 'FMX': 60, 'HHX': 20}\n",
      "{'_id': ObjectId('5f1503853c2c33fb8837ed13'), 'FMX': 60, 'HHX': 20}\n",
      "{'_id': ObjectId('5f14ef6f3c2c33fb8837ed07'), 'index': '093847582343', 'HHX': 20, 'FMX': 30, 'FPX': 43, 'SEX': 'M', 'BMI': '60', 'SLEEP': '8', 'educ': 'MSc.', 'height': '60', 'weight': 20}\n",
      "{'_id': ObjectId('5f14ef6f3c2c33fb8837ed08'), 'index': '093847582343', 'HHX': 20, 'FMX': 30, 'FPX': 43, 'SEX': 'M', 'BMI': '60', 'SLEEP': '8', 'educ': 'MSc.', 'height': '60', 'weight': 20}\n",
      "{'_id': ObjectId('5f14ef833c2c33fb8837ed09'), 'index': '093847582343', 'HHX': 20, 'FMX': 30, 'FPX': 43, 'SEX': 'M', 'BMI': '60', 'SLEEP': '8', 'educ': 'MSc.', 'height': '60', 'weight': 20}\n",
      "{'_id': ObjectId('5f14ef833c2c33fb8837ed0a'), 'index': '093847582343', 'HHX': 20, 'FMX': 30, 'FPX': 43, 'SEX': 'M', 'BMI': '60', 'SLEEP': '8', 'educ': 'MSc.', 'height': '60', 'weight': 20}\n",
      "{'_id': ObjectId('5f14f0bf3c2c33fb8837ed0d'), 'index': '09384758234', 'HHX': 20, 'FMX': 30, 'FPX': 43, 'SEX': '1', 'BMI': '60', 'SLEEP': '8', 'educ': 'MSc.', 'height': '60', 'weight': 20}\n",
      "{'_id': ObjectId('5f14e79d11cf7b08ec2a93b8'), 'index': 84, 'HHX': 1151.0, 'FMX': 1.0, 'FPX': 1.0, 'SEX': 2.0, 'BMI': 19.55, 'SLEEP': 8.0, 'educ': 18.0, 'height': 60.0, 'weight': 100.0}\n",
      "{'_id': ObjectId('5f14e79e11cf7b08ec2a9421'), 'index': 189, 'HHX': 2431.0, 'FMX': 1.0, 'FPX': 2.0, 'SEX': 2.0, 'BMI': 19.55, 'SLEEP': 6.0, 'educ': 12.0, 'height': 60.0, 'weight': 100.0}\n",
      "{'_id': ObjectId('5f14e79e11cf7b08ec2a9562'), 'index': 510, 'HHX': 6357.0, 'FMX': 1.0, 'FPX': 2.0, 'SEX': 2.0, 'BMI': 19.55, 'SLEEP': 7.0, 'educ': 8.0, 'height': 60.0, 'weight': 100.0}\n",
      "{'_id': ObjectId('5f14e79f11cf7b08ec2a95fe'), 'index': 666, 'HHX': 8279.0, 'FMX': 1.0, 'FPX': 2.0, 'SEX': 2.0, 'BMI': 19.55, 'SLEEP': 10.0, 'educ': 12.0, 'height': 60.0, 'weight': 100.0}\n",
      "{'_id': ObjectId('5f14e7a011cf7b08ec2a96b6'), 'index': 850, 'HHX': 10752.0, 'FMX': 1.0, 'FPX': 2.0, 'SEX': 2.0, 'BMI': 20.21, 'SLEEP': 8.0, 'educ': 12.0, 'height': 59.0, 'weight': 100.0}\n",
      "{'_id': ObjectId('5f14e7a011cf7b08ec2a980c'), 'index': 1192, 'HHX': 15110.0, 'FMX': 1.0, 'FPX': 1.0, 'SEX': 2.0, 'BMI': 18.92, 'SLEEP': 7.0, 'educ': 13.0, 'height': 61.0, 'weight': 100.0}\n",
      "{'_id': ObjectId('5f14e7a211cf7b08ec2a9a40'), 'index': 1756, 'HHX': 22483.0, 'FMX': 1.0, 'FPX': 1.0, 'SEX': 2.0, 'BMI': 17.17, 'SLEEP': 7.0, 'educ': 12.0, 'height': 64.0, 'weight': 100.0}\n",
      "{'_id': ObjectId('5f14e7a411cf7b08ec2a9e2d'), 'index': 2761, 'HHX': 34996.0, 'FMX': 1.0, 'FPX': 2.0, 'SEX': 2.0, 'BMI': 17.73, 'SLEEP': 8.0, 'educ': 16.0, 'height': 63.0, 'weight': 100.0}\n",
      "{'_id': ObjectId('5f14e7a511cf7b08ec2a9f2d'), 'index': 3017, 'HHX': 38246.0, 'FMX': 1.0, 'FPX': 3.0, 'SEX': 2.0, 'BMI': 17.17, 'SLEEP': 6.0, 'educ': 16.0, 'height': 64.0, 'weight': 100.0}\n",
      "{'_id': ObjectId('5f14e7a511cf7b08ec2a9f5f'), 'index': 3067, 'HHX': 38921.0, 'FMX': 1.0, 'FPX': 1.0, 'SEX': 2.0, 'BMI': 19.55, 'SLEEP': 8.0, 'educ': 12.0, 'height': 60.0, 'weight': 100.0}\n",
      "{'_id': ObjectId('5f14e7a511cf7b08ec2aa019'), 'index': 3253, 'HHX': 41163.0, 'FMX': 1.0, 'FPX': 1.0, 'SEX': 2.0, 'BMI': 20.21, 'SLEEP': 8.0, 'educ': 10.0, 'height': 59.0, 'weight': 100.0}\n",
      "{'_id': ObjectId('5f14e7a611cf7b08ec2aa043'), 'index': 3295, 'HHX': 41812.0, 'FMX': 1.0, 'FPX': 2.0, 'SEX': 2.0, 'BMI': 17.17, 'SLEEP': 9.0, 'educ': 12.0, 'height': 64.0, 'weight': 100.0}\n",
      "{'_id': ObjectId('5f14e7a611cf7b08ec2aa14e'), 'index': 3562, 'HHX': 45366.0, 'FMX': 1.0, 'FPX': 2.0, 'SEX': 2.0, 'BMI': 18.3, 'SLEEP': 10.0, 'educ': 16.0, 'height': 62.0, 'weight': 100.0}\n",
      "{'_id': ObjectId('5f14e7a611cf7b08ec2aa163'), 'index': 3583, 'HHX': 45802.0, 'FMX': 1.0, 'FPX': 2.0, 'SEX': 2.0, 'BMI': 18.92, 'SLEEP': 7.0, 'educ': 18.0, 'height': 61.0, 'weight': 100.0}\n",
      "{'_id': ObjectId('5f14e79f11cf7b08ec2a95fb'), 'index': 663, 'HHX': 8254.0, 'FMX': 1.0, 'FPX': 2.0, 'SEX': 2.0, 'BMI': 19.94, 'SLEEP': 8.0, 'educ': 16.0, 'height': 60.0, 'weight': 102.0}\n",
      "{'_id': ObjectId('5f14e7a111cf7b08ec2a9851'), 'index': 1261, 'HHX': 15928.0, 'FMX': 1.0, 'FPX': 1.0, 'SEX': 2.0, 'BMI': 18.67, 'SLEEP': 12.0, 'educ': 13.0, 'height': 62.0, 'weight': 102.0}\n",
      "{'_id': ObjectId('5f14e7a411cf7b08ec2a9d40'), 'index': 2524, 'HHX': 32199.0, 'FMX': 1.0, 'FPX': 2.0, 'SEX': 2.0, 'BMI': 20.61, 'SLEEP': 8.0, 'educ': 12.0, 'height': 59.0, 'weight': 102.0}\n",
      "{'_id': ObjectId('5f14e7a611cf7b08ec2aa074'), 'index': 3344, 'HHX': 42384.0, 'FMX': 1.0, 'FPX': 1.0, 'SEX': 2.0, 'BMI': 18.67, 'SLEEP': 7.0, 'educ': 13.0, 'height': 62.0, 'weight': 102.0}\n"
     ]
    }
   ],
   "source": [
    "for x in mycol.find().sort(\"weight\",1).limit(30):\n",
    "    print(x)"
   ]
  },
  {
   "cell_type": "code",
   "execution_count": 203,
   "metadata": {},
   "outputs": [
    {
     "name": "stdout",
     "output_type": "stream",
     "text": [
      "{'_id': ObjectId('5f14e79e11cf7b08ec2a942e'), 'index': 202, 'HHX': 2571.0, 'FMX': 1.0, 'FPX': 2.0, 'SEX': 1.0, 'BMI': 30.26, 'SLEEP': 8.0, 'educ': 6.0, 'height': 96.0, 'weight': 996.0}\n",
      "{'_id': ObjectId('5f14e79e11cf7b08ec2a9494'), 'index': 304, 'HHX': 3793.0, 'FMX': 1.0, 'FPX': 1.0, 'SEX': 1.0, 'BMI': 20.19, 'SLEEP': 7.0, 'educ': 14.0, 'height': 96.0, 'weight': 996.0}\n",
      "{'_id': ObjectId('5f14e79e11cf7b08ec2a9495'), 'index': 305, 'HHX': 3817.0, 'FMX': 1.0, 'FPX': 8.0, 'SEX': 2.0, 'BMI': 24.0, 'SLEEP': 5.0, 'educ': 13.0, 'height': 96.0, 'weight': 996.0}\n",
      "{'_id': ObjectId('5f14e7a711cf7b08ec2aa2a7'), 'index': 3907, 'HHX': 50124.0, 'FMX': 1.0, 'FPX': 1.0, 'SEX': 1.0, 'BMI': 41.59, 'SLEEP': 6.0, 'educ': 12.0, 'height': 71.0, 'weight': 298.0}\n",
      "{'_id': ObjectId('5f14e7a111cf7b08ec2a987d'), 'index': 1305, 'HHX': 16350.0, 'FMX': 1.0, 'FPX': 2.0, 'SEX': 1.0, 'BMI': 38.93, 'SLEEP': 6.0, 'educ': 14.0, 'height': 73.0, 'weight': 295.0}\n",
      "{'_id': ObjectId('5f14e7a111cf7b08ec2a9953'), 'index': 1519, 'HHX': 19303.0, 'FMX': 1.0, 'FPX': 1.0, 'SEX': 1.0, 'BMI': 40.0, 'SLEEP': 5.0, 'educ': 12.0, 'height': 72.0, 'weight': 295.0}\n",
      "{'_id': ObjectId('5f14e7a111cf7b08ec2a99a1'), 'index': 1597, 'HHX': 20347.0, 'FMX': 1.0, 'FPX': 1.0, 'SEX': 1.0, 'BMI': 40.0, 'SLEEP': 8.0, 'educ': 18.0, 'height': 72.0, 'weight': 295.0}\n",
      "{'_id': ObjectId('5f14e7a211cf7b08ec2a9b83'), 'index': 2079, 'HHX': 26927.0, 'FMX': 1.0, 'FPX': 2.0, 'SEX': 1.0, 'BMI': 36.87, 'SLEEP': 7.0, 'educ': 13.0, 'height': 75.0, 'weight': 295.0}\n",
      "{'_id': ObjectId('5f14e7a311cf7b08ec2a9c24'), 'index': 2240, 'HHX': 28941.0, 'FMX': 1.0, 'FPX': 2.0, 'SEX': 1.0, 'BMI': 38.93, 'SLEEP': 5.0, 'educ': 16.0, 'height': 73.0, 'weight': 295.0}\n",
      "{'_id': ObjectId('5f14e7a511cf7b08ec2a9ed0'), 'index': 2924, 'HHX': 36933.0, 'FMX': 1.0, 'FPX': 2.0, 'SEX': 1.0, 'BMI': 36.87, 'SLEEP': 7.0, 'educ': 16.0, 'height': 75.0, 'weight': 295.0}\n",
      "{'_id': ObjectId('5f14e7a511cf7b08ec2a9f43'), 'index': 3039, 'HHX': 38561.0, 'FMX': 1.0, 'FPX': 1.0, 'SEX': 1.0, 'BMI': 38.93, 'SLEEP': 3.0, 'educ': 13.0, 'height': 73.0, 'weight': 295.0}\n",
      "{'_id': ObjectId('5f14e7a711cf7b08ec2aa3ae'), 'index': 4170, 'HHX': 53246.0, 'FMX': 1.0, 'FPX': 2.0, 'SEX': 1.0, 'BMI': 46.19, 'SLEEP': 7.0, 'educ': 6.0, 'height': 67.0, 'weight': 295.0}\n",
      "{'_id': ObjectId('5f14e79d11cf7b08ec2a9376'), 'index': 18, 'HHX': 237.0, 'FMX': 1.0, 'FPX': 2.0, 'SEX': 1.0, 'BMI': 39.31, 'SLEEP': 8.0, 'educ': 14.0, 'height': 72.0, 'weight': 290.0}\n",
      "{'_id': ObjectId('5f14e79e11cf7b08ec2a9557'), 'index': 499, 'HHX': 6175.0, 'FMX': 1.0, 'FPX': 2.0, 'SEX': 1.0, 'BMI': 39.31, 'SLEEP': 8.0, 'educ': 13.0, 'height': 72.0, 'weight': 290.0}\n",
      "{'_id': ObjectId('5f14e7a211cf7b08ec2a9a49'), 'index': 1765, 'HHX': 22627.0, 'FMX': 1.0, 'FPX': 2.0, 'SEX': 1.0, 'BMI': 35.3, 'SLEEP': 8.0, 'educ': 16.0, 'height': 76.0, 'weight': 290.0}\n",
      "{'_id': ObjectId('5f14e7a211cf7b08ec2a9ba2'), 'index': 2110, 'HHX': 27340.0, 'FMX': 1.0, 'FPX': 2.0, 'SEX': 1.0, 'BMI': 40.45, 'SLEEP': 8.0, 'educ': 13.0, 'height': 71.0, 'weight': 290.0}\n",
      "{'_id': ObjectId('5f14e7a411cf7b08ec2a9d2e'), 'index': 2506, 'HHX': 31970.0, 'FMX': 1.0, 'FPX': 2.0, 'SEX': 1.0, 'BMI': 40.45, 'SLEEP': 4.0, 'educ': 13.0, 'height': 71.0, 'weight': 290.0}\n",
      "{'_id': ObjectId('5f14e7a611cf7b08ec2aa0fb'), 'index': 3479, 'HHX': 44247.0, 'FMX': 1.0, 'FPX': 1.0, 'SEX': 1.0, 'BMI': 37.21, 'SLEEP': 5.0, 'educ': 12.0, 'height': 74.0, 'weight': 290.0}\n",
      "{'_id': ObjectId('5f14e7a611cf7b08ec2aa202'), 'index': 3742, 'HHX': 48009.0, 'FMX': 1.0, 'FPX': 2.0, 'SEX': 1.0, 'BMI': 39.31, 'SLEEP': 8.0, 'educ': 12.0, 'height': 72.0, 'weight': 290.0}\n",
      "{'_id': ObjectId('5f14e79f11cf7b08ec2a961a'), 'index': 694, 'HHX': 8677.0, 'FMX': 1.0, 'FPX': 1.0, 'SEX': 1.0, 'BMI': 39.19, 'SLEEP': 6.0, 'educ': 16.0, 'height': 72.0, 'weight': 289.0}\n"
     ]
    }
   ],
   "source": [
    "for x in mycol.find().sort(\"weight\",-1).limit(20):\n",
    "    print(x)"
   ]
  },
  {
   "cell_type": "code",
   "execution_count": 204,
   "metadata": {},
   "outputs": [
    {
     "name": "stdout",
     "output_type": "stream",
     "text": [
      "{'_id': ObjectId('5f14e79e11cf7b08ec2a942e'), 'index': 202, 'HHX': 2571.0, 'FMX': 1.0, 'FPX': 2.0, 'SEX': 1.0, 'BMI': 30.26, 'SLEEP': 8.0, 'educ': 6.0, 'height': 96.0, 'weight': 996.0}\n",
      "{'_id': ObjectId('5f14e79e11cf7b08ec2a9494'), 'index': 304, 'HHX': 3793.0, 'FMX': 1.0, 'FPX': 1.0, 'SEX': 1.0, 'BMI': 20.19, 'SLEEP': 7.0, 'educ': 14.0, 'height': 96.0, 'weight': 996.0}\n",
      "{'_id': ObjectId('5f14e79e11cf7b08ec2a9495'), 'index': 305, 'HHX': 3817.0, 'FMX': 1.0, 'FPX': 8.0, 'SEX': 2.0, 'BMI': 24.0, 'SLEEP': 5.0, 'educ': 13.0, 'height': 96.0, 'weight': 996.0}\n",
      "{'_id': ObjectId('5f14e7a711cf7b08ec2aa2a7'), 'index': 3907, 'HHX': 50124.0, 'FMX': 1.0, 'FPX': 1.0, 'SEX': 1.0, 'BMI': 41.59, 'SLEEP': 6.0, 'educ': 12.0, 'height': 71.0, 'weight': 298.0}\n",
      "{'_id': ObjectId('5f14e7a111cf7b08ec2a987d'), 'index': 1305, 'HHX': 16350.0, 'FMX': 1.0, 'FPX': 2.0, 'SEX': 1.0, 'BMI': 38.93, 'SLEEP': 6.0, 'educ': 14.0, 'height': 73.0, 'weight': 295.0}\n",
      "{'_id': ObjectId('5f14e7a111cf7b08ec2a9953'), 'index': 1519, 'HHX': 19303.0, 'FMX': 1.0, 'FPX': 1.0, 'SEX': 1.0, 'BMI': 40.0, 'SLEEP': 5.0, 'educ': 12.0, 'height': 72.0, 'weight': 295.0}\n",
      "{'_id': ObjectId('5f14e7a111cf7b08ec2a99a1'), 'index': 1597, 'HHX': 20347.0, 'FMX': 1.0, 'FPX': 1.0, 'SEX': 1.0, 'BMI': 40.0, 'SLEEP': 8.0, 'educ': 18.0, 'height': 72.0, 'weight': 295.0}\n",
      "{'_id': ObjectId('5f14e7a211cf7b08ec2a9b83'), 'index': 2079, 'HHX': 26927.0, 'FMX': 1.0, 'FPX': 2.0, 'SEX': 1.0, 'BMI': 36.87, 'SLEEP': 7.0, 'educ': 13.0, 'height': 75.0, 'weight': 295.0}\n",
      "{'_id': ObjectId('5f14e7a311cf7b08ec2a9c24'), 'index': 2240, 'HHX': 28941.0, 'FMX': 1.0, 'FPX': 2.0, 'SEX': 1.0, 'BMI': 38.93, 'SLEEP': 5.0, 'educ': 16.0, 'height': 73.0, 'weight': 295.0}\n",
      "{'_id': ObjectId('5f14e7a511cf7b08ec2a9ed0'), 'index': 2924, 'HHX': 36933.0, 'FMX': 1.0, 'FPX': 2.0, 'SEX': 1.0, 'BMI': 36.87, 'SLEEP': 7.0, 'educ': 16.0, 'height': 75.0, 'weight': 295.0}\n",
      "{'_id': ObjectId('5f14e7a511cf7b08ec2a9f43'), 'index': 3039, 'HHX': 38561.0, 'FMX': 1.0, 'FPX': 1.0, 'SEX': 1.0, 'BMI': 38.93, 'SLEEP': 3.0, 'educ': 13.0, 'height': 73.0, 'weight': 295.0}\n",
      "{'_id': ObjectId('5f14e7a711cf7b08ec2aa3ae'), 'index': 4170, 'HHX': 53246.0, 'FMX': 1.0, 'FPX': 2.0, 'SEX': 1.0, 'BMI': 46.19, 'SLEEP': 7.0, 'educ': 6.0, 'height': 67.0, 'weight': 295.0}\n",
      "{'_id': ObjectId('5f14e79d11cf7b08ec2a9376'), 'index': 18, 'HHX': 237.0, 'FMX': 1.0, 'FPX': 2.0, 'SEX': 1.0, 'BMI': 39.31, 'SLEEP': 8.0, 'educ': 14.0, 'height': 72.0, 'weight': 290.0}\n",
      "{'_id': ObjectId('5f14e79e11cf7b08ec2a9557'), 'index': 499, 'HHX': 6175.0, 'FMX': 1.0, 'FPX': 2.0, 'SEX': 1.0, 'BMI': 39.31, 'SLEEP': 8.0, 'educ': 13.0, 'height': 72.0, 'weight': 290.0}\n",
      "{'_id': ObjectId('5f14e7a211cf7b08ec2a9a49'), 'index': 1765, 'HHX': 22627.0, 'FMX': 1.0, 'FPX': 2.0, 'SEX': 1.0, 'BMI': 35.3, 'SLEEP': 8.0, 'educ': 16.0, 'height': 76.0, 'weight': 290.0}\n",
      "{'_id': ObjectId('5f14e7a211cf7b08ec2a9ba2'), 'index': 2110, 'HHX': 27340.0, 'FMX': 1.0, 'FPX': 2.0, 'SEX': 1.0, 'BMI': 40.45, 'SLEEP': 8.0, 'educ': 13.0, 'height': 71.0, 'weight': 290.0}\n",
      "{'_id': ObjectId('5f14e7a411cf7b08ec2a9d2e'), 'index': 2506, 'HHX': 31970.0, 'FMX': 1.0, 'FPX': 2.0, 'SEX': 1.0, 'BMI': 40.45, 'SLEEP': 4.0, 'educ': 13.0, 'height': 71.0, 'weight': 290.0}\n",
      "{'_id': ObjectId('5f14e7a611cf7b08ec2aa0fb'), 'index': 3479, 'HHX': 44247.0, 'FMX': 1.0, 'FPX': 1.0, 'SEX': 1.0, 'BMI': 37.21, 'SLEEP': 5.0, 'educ': 12.0, 'height': 74.0, 'weight': 290.0}\n",
      "{'_id': ObjectId('5f14e7a611cf7b08ec2aa202'), 'index': 3742, 'HHX': 48009.0, 'FMX': 1.0, 'FPX': 2.0, 'SEX': 1.0, 'BMI': 39.31, 'SLEEP': 8.0, 'educ': 12.0, 'height': 72.0, 'weight': 290.0}\n",
      "{'_id': ObjectId('5f14e79f11cf7b08ec2a961a'), 'index': 694, 'HHX': 8677.0, 'FMX': 1.0, 'FPX': 1.0, 'SEX': 1.0, 'BMI': 39.19, 'SLEEP': 6.0, 'educ': 16.0, 'height': 72.0, 'weight': 289.0}\n"
     ]
    }
   ],
   "source": [
    "for x in mycol.find().sort([(\"weight\",-1), (\"SEX\",1)]).limit(20):\n",
    "    print(x)"
   ]
  },
  {
   "cell_type": "markdown",
   "metadata": {},
   "source": [
    "<h3>Paso 7: Cláusula Group</h3>\n",
    "<br />\n",
    "<div class=\"t m0 x6 hc y8f ff1 fs4 fc0 sc0 ls0 ws0\">Caracter&iacute;sticas.</div>\n",
    "<ul>\n",
    "<li class=\"t m0 x8 h9 y173 ff6 fs4 fc0 sc0 ls0 ws0\"><span class=\"ff2\">Permite<span class=\"_ _3\"></span> <span class=\"_ _d\"></span>establece<span class=\"_ _3\"></span> <span class=\"_ _3\"></span>grupos<span class=\"_ _d\"></span> <span class=\"_ _3\"></span>de<span class=\"_ _3\"></span> <span class=\"_ _d\"></span>documentos<span class=\"_ _3\"></span> <span class=\"_ _d\"></span>por<span class=\"_ _3\"></span> <span class=\"_ _3\"></span>al<span class=\"_ _3\"></span>guna<span class=\"_ _3\"></span> <span class=\"_ _d\"></span>expresi&oacute;n<span class=\"_ _3\"></span> <span class=\"_ _3\"></span>especificada<span class=\"_ _3\"></span> <span class=\"_ _d\"></span>y<span class=\"_ _3\"></span> <span class=\"_ _d\"></span>salidas<span class=\"_ _3\"></span> <span class=\"_ _d\"></span>a<span class=\"_ _3\"></span> <span class=\"_ _3\"></span>la<span class=\"_ _d\"></span> <span class=\"_ _3\"></span>siguiente&nbsp;</span>etapa de un documento para cada ag<span class=\"_ _0\"></span>rupaci&oacute;n distinta.</li>\n",
    "<li class=\"t m0 x8 hc y11c ff6 fs4 fc0 sc0 ls0 ws0\"><span class=\"ff2\">Los documentos de salida contienen un ca<span class=\"_ _0\"></span>mpo <span class=\"_ _3\"></span><span class=\"ff1\">_id</span> que contiene el grupo diferenciado po<span class=\"_ _0\"></span>r clave. </span></li>\n",
    "<li class=\"t m0 x8 h9 y186 ff6 fs4 fc0 sc0 ls0 ws0\"><span class=\"ff2\">Los docum<span class=\"_ _3\"></span>entos de<span class=\"_ _3\"></span> salida <span class=\"_ _3\"></span>tambi&eacute;n <span class=\"_ _3\"></span>pueden contener <span class=\"_ _3\"></span>campos <span class=\"_ _3\"></span>calculados que<span class=\"_ _3\"></span> contienen <span class=\"_ _3\"></span>los <span class=\"_ _3\"></span>valores de&nbsp;</span>alguna expresi&oacute;n acumulador agrupados po<span class=\"_ _0\"></span>r el campo _id de $group.</li>\n",
    "</ul>"
   ]
  },
  {
   "cell_type": "code",
   "execution_count": 188,
   "metadata": {},
   "outputs": [
    {
     "name": "stdout",
     "output_type": "stream",
     "text": [
      "{'_id': '1', 'count': 1}\n",
      "{'_id': 1.0, 'count': 1948}\n",
      "{'_id': 'M', 'count': 4}\n",
      "{'_id': 2.0, 'count': 2284}\n",
      "{'_id': None, 'count': 7}\n"
     ]
    }
   ],
   "source": [
    "resultado = mycol.aggregate(\n",
    "              [\n",
    "               {\"$group\":\n",
    "                       {\n",
    "                           \"_id\": \"$SEX\",\n",
    "                           \"count\": { \"$sum\": 1 }\n",
    "                        }\n",
    "                }\n",
    "               ]\n",
    "             )\n",
    "for dato in resultado:\n",
    "    print (dato)"
   ]
  },
  {
   "cell_type": "code",
   "execution_count": 208,
   "metadata": {},
   "outputs": [
    {
     "name": "stdout",
     "output_type": "stream",
     "text": [
      "{'_id': {'sex': '1', 'weight': 20}, 'count': 1}\n",
      "{'_id': {'sex': 2.0, 'weight': 238.0}, 'count': 1}\n",
      "{'_id': {'sex': 1.0, 'weight': 298.0}, 'count': 1}\n",
      "{'_id': {'sex': 1.0, 'weight': 276.0}, 'count': 2}\n",
      "{'_id': {'sex': 2.0, 'weight': 177.0}, 'count': 1}\n",
      "{'_id': {'sex': 2.0, 'weight': 204.0}, 'count': 1}\n",
      "{'_id': {'sex': 1.0, 'weight': 253.0}, 'count': 1}\n",
      "{'_id': {'sex': 1.0, 'weight': 211.0}, 'count': 1}\n",
      "{'_id': {'sex': 2.0, 'weight': 121.0}, 'count': 1}\n",
      "{'_id': {'sex': 2.0, 'weight': 258.0}, 'count': 1}\n",
      "{'_id': {'sex': 1.0, 'weight': 219.0}, 'count': 1}\n",
      "{'_id': {'sex': 2.0, 'weight': 253.0}, 'count': 1}\n",
      "{'_id': {'sex': 1.0, 'weight': 258.0}, 'count': 1}\n",
      "{'_id': {'sex': 1.0, 'weight': 262.0}, 'count': 1}\n",
      "{'_id': {'sex': 1.0, 'weight': 137.0}, 'count': 2}\n",
      "{'_id': {'sex': 1.0, 'weight': 238.0}, 'count': 2}\n",
      "{'_id': {'sex': 2.0, 'weight': 262.0}, 'count': 1}\n",
      "{'_id': {'sex': 2.0, 'weight': 223.0}, 'count': 1}\n",
      "{'_id': {'sex': 1.0, 'weight': 242.0}, 'count': 1}\n",
      "{'_id': {'sex': 1.0, 'weight': 134.0}, 'count': 1}\n"
     ]
    }
   ],
   "source": [
    "resultado = mycol.aggregate(\n",
    "              [\n",
    "               {\"$group\":\n",
    "                       {\n",
    "                           \"_id\": {\"sex\":\"$SEX\", \"weight\":\"$weight\"},\n",
    "                           \"count\": { \"$sum\": 1 }\n",
    "                        }\n",
    "                },\n",
    "                { \"$limit\": 20 }\n",
    "               ]\n",
    "             )\n",
    "for dato in resultado:\n",
    "    print (dato)"
   ]
  },
  {
   "cell_type": "code",
   "execution_count": 209,
   "metadata": {
    "scrolled": true
   },
   "outputs": [
    {
     "name": "stdout",
     "output_type": "stream",
     "text": [
      "{'_id': {'sex': '1', 'weight': 20}, 'count': 1}\n",
      "{'_id': {'sex': 2.0, 'weight': 100.0}, 'count': 14}\n",
      "{'_id': {'sex': 2.0, 'weight': 103.0}, 'count': 2}\n",
      "{'_id': {'sex': 2.0, 'weight': 113.0}, 'count': 6}\n",
      "{'_id': {'sex': 2.0, 'weight': 115.0}, 'count': 45}\n",
      "{'_id': {'sex': 2.0, 'weight': 117.0}, 'count': 9}\n",
      "{'_id': {'sex': 2.0, 'weight': 118.0}, 'count': 15}\n",
      "{'_id': {'sex': 2.0, 'weight': 120.0}, 'count': 78}\n",
      "{'_id': {'sex': 2.0, 'weight': 121.0}, 'count': 1}\n",
      "{'_id': {'sex': 2.0, 'weight': 122.0}, 'count': 11}\n",
      "{'_id': {'sex': 2.0, 'weight': 123.0}, 'count': 12}\n",
      "{'_id': {'sex': 2.0, 'weight': 124.0}, 'count': 11}\n",
      "{'_id': {'sex': 2.0, 'weight': 125.0}, 'count': 75}\n",
      "{'_id': {'sex': 2.0, 'weight': 126.0}, 'count': 11}\n",
      "{'_id': {'sex': 2.0, 'weight': 127.0}, 'count': 13}\n",
      "{'_id': {'sex': 1.0, 'weight': 128.0}, 'count': 2}\n",
      "{'_id': {'sex': 2.0, 'weight': 128.0}, 'count': 11}\n",
      "{'_id': {'sex': 2.0, 'weight': 129.0}, 'count': 10}\n",
      "{'_id': {'sex': 2.0, 'weight': 102.0}, 'count': 4}\n",
      "{'_id': {'sex': 1.0, 'weight': 130.0}, 'count': 10}\n"
     ]
    }
   ],
   "source": [
    "resultado = mycol.aggregate(\n",
    "              [{\n",
    "                  \"$sort\": {\"weight\":-1},\n",
    "                },\n",
    "               {\n",
    "                   \"$group\":\n",
    "                       {\n",
    "                           \"_id\": {\"sex\":\"$SEX\", \"weight\":\"$weight\"},\n",
    "                           \"count\": { \"$sum\": 1 }\n",
    "                        }\n",
    "                },\n",
    "                { \"$limit\": 20 }\n",
    "               ]\n",
    "             )\n",
    "for dato in resultado:\n",
    "    print (dato)"
   ]
  },
  {
   "cell_type": "markdown",
   "metadata": {},
   "source": [
    "# Desafio:  \n",
    "\n",
    "<p>Se ha creado una nueva colecci&oacute;n llamada <strong>nodo_sensor.&nbsp;</strong>Esta colecci&oacute;n recibe informaci&oacute;n de nodos sensores ubicados en una posici&oacute;n [lat, lng] dentro del campus Prosperina de ESPOL. Se pide realizar lo siguiente:</p>\n",
    "<ol>\n",
    "<li>Obtener el n&uacute;mero de datos y la cantidad de nodos que existen ubicados en el campus.</li>\n",
    "<li>Obtener los datos obtenidos por el nodo sensor 3.</li>\n",
    "<li>Obtener la &uacute;ltima velocidad y direcci&oacute;n del viento obtenidos por en el nodo sensor 5.</li>\n",
    "</ol>"
   ]
  },
  {
   "cell_type": "markdown",
   "metadata": {},
   "source": [
    "# Bibliografía\n",
    "<ul>\n",
    "<li><a href=\"https://www.mongodb.com\">https://www.mongodb.com</a></li>\n",
    "<li><a href=\"https://pymongo.readthedocs.io\">https://pymongo.readthedocs.io</a></li>\n",
    "<li><a href=\"https://docs.mongodb.com/drivers/pymongo\">https://docs.mongodb.com/drivers/pymongo</a></li>\n",
    "</ul>"
   ]
  }
 ],
 "metadata": {
  "kernelspec": {
   "display_name": "Python 3",
   "language": "python",
   "name": "python3"
  },
  "language_info": {
   "codemirror_mode": {
    "name": "ipython",
    "version": 3
   },
   "file_extension": ".py",
   "mimetype": "text/x-python",
   "name": "python",
   "nbconvert_exporter": "python",
   "pygments_lexer": "ipython3",
   "version": "3.7.4"
  }
 },
 "nbformat": 4,
 "nbformat_minor": 2
}
